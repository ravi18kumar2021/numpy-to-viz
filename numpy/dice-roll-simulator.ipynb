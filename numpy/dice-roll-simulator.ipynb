{
  "nbformat": 4,
  "nbformat_minor": 0,
  "metadata": {
    "colab": {
      "provenance": [],
      "authorship_tag": "ABX9TyMNeZIoiqlxzeBV+LNA5Jb9",
      "include_colab_link": true
    },
    "kernelspec": {
      "name": "python3",
      "display_name": "Python 3"
    },
    "language_info": {
      "name": "python"
    }
  },
  "cells": [
    {
      "cell_type": "markdown",
      "metadata": {
        "id": "view-in-github",
        "colab_type": "text"
      },
      "source": [
        "<a href=\"https://colab.research.google.com/github/ravi18kumar2021/numpy-to-viz/blob/main/numpy/dice-roll-simulator.ipynb\" target=\"_parent\"><img src=\"https://colab.research.google.com/assets/colab-badge.svg\" alt=\"Open In Colab\"/></a>"
      ]
    },
    {
      "cell_type": "markdown",
      "source": [
        "## 🎯 Goal:\n",
        "#### Simulate rolling two dice 10,000 times and count how often each sum (from 2 to 12) appears."
      ],
      "metadata": {
        "id": "VzvA8-JayTrh"
      }
    },
    {
      "cell_type": "markdown",
      "source": [
        "### 🧠 Concepts Used\n",
        "* np.random.randint\n",
        "* Element-wise addition\n",
        "* np.unique with return_counts=True"
      ],
      "metadata": {
        "id": "1KVUjOw-ygZl"
      }
    },
    {
      "cell_type": "code",
      "execution_count": 1,
      "metadata": {
        "id": "bRG5_-K7xUVQ"
      },
      "outputs": [],
      "source": [
        "import numpy as np"
      ]
    },
    {
      "cell_type": "code",
      "source": [
        "arr1 = np.random.randint(1, 7, 10)\n",
        "arr1"
      ],
      "metadata": {
        "colab": {
          "base_uri": "https://localhost:8080/"
        },
        "id": "PzJejCdA6o-K",
        "outputId": "d49ec68d-46ac-4103-f802-9638dbc2ae2a"
      },
      "execution_count": 7,
      "outputs": [
        {
          "output_type": "execute_result",
          "data": {
            "text/plain": [
              "array([2, 2, 2, 4, 4, 2, 3, 1, 2, 2])"
            ]
          },
          "metadata": {},
          "execution_count": 7
        }
      ]
    },
    {
      "cell_type": "code",
      "source": [
        "arr2 = np.random.randint(1, 7, 10)\n",
        "arr2"
      ],
      "metadata": {
        "colab": {
          "base_uri": "https://localhost:8080/"
        },
        "id": "710LGbWH6t0e",
        "outputId": "60eff61a-fa55-45eb-9489-734918513489"
      },
      "execution_count": 8,
      "outputs": [
        {
          "output_type": "execute_result",
          "data": {
            "text/plain": [
              "array([5, 1, 3, 5, 3, 2, 1, 5, 1, 2])"
            ]
          },
          "metadata": {},
          "execution_count": 8
        }
      ]
    },
    {
      "cell_type": "code",
      "source": [
        "sums = arr1 + arr2\n",
        "sums"
      ],
      "metadata": {
        "colab": {
          "base_uri": "https://localhost:8080/"
        },
        "id": "lm4RV4cY7UCe",
        "outputId": "1aca3788-85a0-4edf-d9e8-f2c210c3714a"
      },
      "execution_count": 9,
      "outputs": [
        {
          "output_type": "execute_result",
          "data": {
            "text/plain": [
              "array([7, 3, 5, 9, 7, 4, 4, 6, 3, 4])"
            ]
          },
          "metadata": {},
          "execution_count": 9
        }
      ]
    },
    {
      "cell_type": "code",
      "source": [
        "values, counts = np.unique(sums, return_counts=True)"
      ],
      "metadata": {
        "id": "W9aBIq0X7bj1"
      },
      "execution_count": 13,
      "outputs": []
    },
    {
      "cell_type": "code",
      "source": [
        "values"
      ],
      "metadata": {
        "colab": {
          "base_uri": "https://localhost:8080/"
        },
        "id": "_bpUOTAR71Tx",
        "outputId": "76ef92ba-4dd8-40d9-8108-996857c3c241"
      },
      "execution_count": 14,
      "outputs": [
        {
          "output_type": "execute_result",
          "data": {
            "text/plain": [
              "array([3, 4, 5, 6, 7, 9])"
            ]
          },
          "metadata": {},
          "execution_count": 14
        }
      ]
    },
    {
      "cell_type": "code",
      "source": [
        "counts"
      ],
      "metadata": {
        "colab": {
          "base_uri": "https://localhost:8080/"
        },
        "id": "NY9YcDMQ8BiL",
        "outputId": "cda8cf10-dcb2-440e-97d0-bb6cf21fcd4f"
      },
      "execution_count": 15,
      "outputs": [
        {
          "output_type": "execute_result",
          "data": {
            "text/plain": [
              "array([2, 3, 1, 1, 2, 1])"
            ]
          },
          "metadata": {},
          "execution_count": 15
        }
      ]
    },
    {
      "cell_type": "code",
      "source": [
        "def roll_dice_simulator(num_rolls):\n",
        "  arr1 = np.random.randint(1, 7, size=num_rolls)\n",
        "  arr2 = np.random.randint(1, 7, size=num_rolls)\n",
        "  sums = arr1 + arr2\n",
        "  values, counts = np.unique(sums, return_counts=True)\n",
        "  print(f'After Rolling Dice {num_rolls} times\\n')\n",
        "  for value, count in zip(values, counts):\n",
        "    print(f\"Sum = {value:2} ({count:4} times)\")"
      ],
      "metadata": {
        "id": "OVunIMA18Fcz"
      },
      "execution_count": 28,
      "outputs": []
    },
    {
      "cell_type": "code",
      "source": [
        "roll_dice_simulator(10000)"
      ],
      "metadata": {
        "colab": {
          "base_uri": "https://localhost:8080/"
        },
        "id": "Fpq3hjzn8usw",
        "outputId": "d555fe11-7be6-44c8-9102-0106f18243ef"
      },
      "execution_count": 29,
      "outputs": [
        {
          "output_type": "stream",
          "name": "stdout",
          "text": [
            "After Rolling Dice 10000 times\n",
            "\n",
            "Sum =  2 ( 307 times)\n",
            "Sum =  3 ( 558 times)\n",
            "Sum =  4 ( 827 times)\n",
            "Sum =  5 (1110 times)\n",
            "Sum =  6 (1360 times)\n",
            "Sum =  7 (1654 times)\n",
            "Sum =  8 (1397 times)\n",
            "Sum =  9 (1123 times)\n",
            "Sum = 10 ( 846 times)\n",
            "Sum = 11 ( 553 times)\n",
            "Sum = 12 ( 265 times)\n"
          ]
        }
      ]
    },
    {
      "cell_type": "code",
      "source": [],
      "metadata": {
        "id": "4nS0gA5E8-hp"
      },
      "execution_count": null,
      "outputs": []
    }
  ]
}