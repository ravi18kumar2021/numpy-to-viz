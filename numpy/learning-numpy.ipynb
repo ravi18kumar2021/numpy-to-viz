{
  "nbformat": 4,
  "nbformat_minor": 0,
  "metadata": {
    "colab": {
      "provenance": [],
      "authorship_tag": "ABX9TyObT+yLlQHHwAC4XrP91ERM",
      "include_colab_link": true
    },
    "kernelspec": {
      "name": "python3",
      "display_name": "Python 3"
    },
    "language_info": {
      "name": "python"
    }
  },
  "cells": [
    {
      "cell_type": "markdown",
      "metadata": {
        "id": "view-in-github",
        "colab_type": "text"
      },
      "source": [
        "<a href=\"https://colab.research.google.com/github/ravi18kumar2021/numpy-to-viz/blob/main/numpy/learning-numpy.ipynb\" target=\"_parent\"><img src=\"https://colab.research.google.com/assets/colab-badge.svg\" alt=\"Open In Colab\"/></a>"
      ]
    },
    {
      "cell_type": "code",
      "execution_count": 1,
      "metadata": {
        "id": "pRYAlBJnBoq3"
      },
      "outputs": [],
      "source": [
        "# importing numpy library\n",
        "import numpy as np"
      ]
    },
    {
      "cell_type": "markdown",
      "source": [
        "### Creation of an array"
      ],
      "metadata": {
        "id": "1b6C_RkeVwof"
      }
    },
    {
      "cell_type": "code",
      "source": [
        "# creating a numpy array from a list\n",
        "arr = np.array([3, 5, 2, 1, 7])\n",
        "arr"
      ],
      "metadata": {
        "colab": {
          "base_uri": "https://localhost:8080/"
        },
        "id": "vo14ArMGBvnB",
        "outputId": "23869882-8c77-480e-b884-df892fdeeb43"
      },
      "execution_count": null,
      "outputs": [
        {
          "output_type": "execute_result",
          "data": {
            "text/plain": [
              "array([3, 5, 2, 1, 7])"
            ]
          },
          "metadata": {},
          "execution_count": 3
        }
      ]
    },
    {
      "cell_type": "code",
      "source": [
        "# creating a n-dimentional numpy array\n",
        "arr = np.array([[2, 5, 7], [1, 3, 5]])\n",
        "arr"
      ],
      "metadata": {
        "colab": {
          "base_uri": "https://localhost:8080/"
        },
        "id": "0ZcN2aUeB-tf",
        "outputId": "ee2251c0-163f-4f79-fa1c-c30a0fe4d21a"
      },
      "execution_count": null,
      "outputs": [
        {
          "output_type": "execute_result",
          "data": {
            "text/plain": [
              "array([[2, 5, 7],\n",
              "       [1, 3, 5]])"
            ]
          },
          "metadata": {},
          "execution_count": 4
        }
      ]
    },
    {
      "cell_type": "markdown",
      "source": [
        "### Functions to create an array"
      ],
      "metadata": {
        "id": "imGXAekzWEtU"
      }
    },
    {
      "cell_type": "code",
      "source": [
        "# creating an array of zeros\n",
        "arr = np.zeros(3)\n",
        "arr"
      ],
      "metadata": {
        "colab": {
          "base_uri": "https://localhost:8080/"
        },
        "id": "CC4DxximCKcJ",
        "outputId": "6ce87b7b-ccdf-4784-9a34-d2edabc04cfc"
      },
      "execution_count": null,
      "outputs": [
        {
          "output_type": "execute_result",
          "data": {
            "text/plain": [
              "array([0., 0., 0.])"
            ]
          },
          "metadata": {},
          "execution_count": 5
        }
      ]
    },
    {
      "cell_type": "code",
      "source": [
        "# creating n-dimensional array of zeros\n",
        "arr = np.zeros((3, 5))\n",
        "arr"
      ],
      "metadata": {
        "colab": {
          "base_uri": "https://localhost:8080/"
        },
        "id": "TRBcsgiTCzcI",
        "outputId": "be33749b-6596-4ea8-de0a-a4338d8ffad5"
      },
      "execution_count": null,
      "outputs": [
        {
          "output_type": "execute_result",
          "data": {
            "text/plain": [
              "array([[0., 0., 0., 0., 0.],\n",
              "       [0., 0., 0., 0., 0.],\n",
              "       [0., 0., 0., 0., 0.]])"
            ]
          },
          "metadata": {},
          "execution_count": 6
        }
      ]
    },
    {
      "cell_type": "code",
      "source": [
        "# creating an array of ones\n",
        "arr = np.ones(7)\n",
        "arr"
      ],
      "metadata": {
        "colab": {
          "base_uri": "https://localhost:8080/"
        },
        "id": "0TXj2klaC7WV",
        "outputId": "334bde9c-e343-4ffc-febf-1cc19a016ace"
      },
      "execution_count": null,
      "outputs": [
        {
          "output_type": "execute_result",
          "data": {
            "text/plain": [
              "array([1., 1., 1., 1., 1., 1., 1.])"
            ]
          },
          "metadata": {},
          "execution_count": 7
        }
      ]
    },
    {
      "cell_type": "code",
      "source": [
        "# creating n-dimensional array of ones\n",
        "arr = np.ones((4, 5))\n",
        "arr"
      ],
      "metadata": {
        "colab": {
          "base_uri": "https://localhost:8080/"
        },
        "id": "DHrzvuy9DBSb",
        "outputId": "10aa3963-2b8d-43bd-974f-707e22f256e1"
      },
      "execution_count": null,
      "outputs": [
        {
          "output_type": "execute_result",
          "data": {
            "text/plain": [
              "array([[1., 1., 1., 1., 1.],\n",
              "       [1., 1., 1., 1., 1.],\n",
              "       [1., 1., 1., 1., 1.],\n",
              "       [1., 1., 1., 1., 1.]])"
            ]
          },
          "metadata": {},
          "execution_count": 8
        }
      ]
    },
    {
      "cell_type": "code",
      "source": [
        "# generate a sequence\n",
        "arr = np.arange(5)\n",
        "arr"
      ],
      "metadata": {
        "colab": {
          "base_uri": "https://localhost:8080/"
        },
        "id": "xLLsTCwQDGet",
        "outputId": "a2a4f837-10c4-4b56-adc7-271f9868b0b8"
      },
      "execution_count": null,
      "outputs": [
        {
          "output_type": "execute_result",
          "data": {
            "text/plain": [
              "array([0, 1, 2, 3, 4])"
            ]
          },
          "metadata": {},
          "execution_count": 9
        }
      ]
    },
    {
      "cell_type": "code",
      "source": [
        "# generate a sequence of custom range\n",
        "arr = np.arange(3, 10)\n",
        "arr"
      ],
      "metadata": {
        "colab": {
          "base_uri": "https://localhost:8080/"
        },
        "id": "zxrZUWD7DPEx",
        "outputId": "e8da6644-0a13-4b65-e567-a5ad12dfb47d"
      },
      "execution_count": null,
      "outputs": [
        {
          "output_type": "execute_result",
          "data": {
            "text/plain": [
              "array([3, 4, 5, 6, 7, 8, 9])"
            ]
          },
          "metadata": {},
          "execution_count": 10
        }
      ]
    },
    {
      "cell_type": "code",
      "source": [
        "# generate a sequence with custom steps\n",
        "arr = np.arange(10, 40, 3)\n",
        "arr"
      ],
      "metadata": {
        "colab": {
          "base_uri": "https://localhost:8080/"
        },
        "id": "JdvFxgPRDW8H",
        "outputId": "42761d39-5114-492a-a03c-52e371ba1b09"
      },
      "execution_count": null,
      "outputs": [
        {
          "output_type": "execute_result",
          "data": {
            "text/plain": [
              "array([10, 13, 16, 19, 22, 25, 28, 31, 34, 37])"
            ]
          },
          "metadata": {},
          "execution_count": 11
        }
      ]
    },
    {
      "cell_type": "code",
      "source": [
        "# generate a sequence with equal spaces between each numbers\n",
        "arr = np.linspace(3, 4) # default 50 numbers\n",
        "arr"
      ],
      "metadata": {
        "colab": {
          "base_uri": "https://localhost:8080/"
        },
        "id": "o6YzVd2nDeOH",
        "outputId": "9a6d38d2-77a5-4f5d-d048-4a5d3e239fcd"
      },
      "execution_count": null,
      "outputs": [
        {
          "output_type": "execute_result",
          "data": {
            "text/plain": [
              "array([3.        , 3.02040816, 3.04081633, 3.06122449, 3.08163265,\n",
              "       3.10204082, 3.12244898, 3.14285714, 3.16326531, 3.18367347,\n",
              "       3.20408163, 3.2244898 , 3.24489796, 3.26530612, 3.28571429,\n",
              "       3.30612245, 3.32653061, 3.34693878, 3.36734694, 3.3877551 ,\n",
              "       3.40816327, 3.42857143, 3.44897959, 3.46938776, 3.48979592,\n",
              "       3.51020408, 3.53061224, 3.55102041, 3.57142857, 3.59183673,\n",
              "       3.6122449 , 3.63265306, 3.65306122, 3.67346939, 3.69387755,\n",
              "       3.71428571, 3.73469388, 3.75510204, 3.7755102 , 3.79591837,\n",
              "       3.81632653, 3.83673469, 3.85714286, 3.87755102, 3.89795918,\n",
              "       3.91836735, 3.93877551, 3.95918367, 3.97959184, 4.        ])"
            ]
          },
          "metadata": {},
          "execution_count": 13
        }
      ]
    },
    {
      "cell_type": "code",
      "source": [
        "# generate a sequence with equal spaces between each numbers\n",
        "arr = np.linspace(10, 20, 12)\n",
        "arr"
      ],
      "metadata": {
        "colab": {
          "base_uri": "https://localhost:8080/"
        },
        "id": "Z5BM72mxDuul",
        "outputId": "76ada275-1b15-4f35-ab28-20737c936176"
      },
      "execution_count": null,
      "outputs": [
        {
          "output_type": "execute_result",
          "data": {
            "text/plain": [
              "array([10.        , 10.90909091, 11.81818182, 12.72727273, 13.63636364,\n",
              "       14.54545455, 15.45454545, 16.36363636, 17.27272727, 18.18181818,\n",
              "       19.09090909, 20.        ])"
            ]
          },
          "metadata": {},
          "execution_count": 15
        }
      ]
    },
    {
      "cell_type": "markdown",
      "source": [
        "### Array properties"
      ],
      "metadata": {
        "id": "QTAAjjg4WQB2"
      }
    },
    {
      "cell_type": "code",
      "source": [
        "# check shape of an array\n",
        "arr = np.array([[3, 5, 2, 5], [1, 2, 6, 7], [1, 2, 1, 4]])\n",
        "arr.shape"
      ],
      "metadata": {
        "colab": {
          "base_uri": "https://localhost:8080/"
        },
        "id": "tneHM34yEC5v",
        "outputId": "e6cbc1a6-41be-44b3-c824-c000a15a0374"
      },
      "execution_count": null,
      "outputs": [
        {
          "output_type": "execute_result",
          "data": {
            "text/plain": [
              "(3, 4)"
            ]
          },
          "metadata": {},
          "execution_count": 17
        }
      ]
    },
    {
      "cell_type": "code",
      "source": [
        "arr = np.array([2, 5, 7, 9, 0])\n",
        "arr.shape"
      ],
      "metadata": {
        "colab": {
          "base_uri": "https://localhost:8080/"
        },
        "id": "vd2fspJ8ESQx",
        "outputId": "f5f41320-460d-4381-fb46-a2ec5cfccb84"
      },
      "execution_count": null,
      "outputs": [
        {
          "output_type": "execute_result",
          "data": {
            "text/plain": [
              "(5,)"
            ]
          },
          "metadata": {},
          "execution_count": 18
        }
      ]
    },
    {
      "cell_type": "code",
      "source": [
        "arr = np.array(7)\n",
        "arr.shape"
      ],
      "metadata": {
        "colab": {
          "base_uri": "https://localhost:8080/"
        },
        "id": "zw7q1mJuFlJa",
        "outputId": "29f5f57a-3661-4c0d-ea51-4eb83bc5737f"
      },
      "execution_count": null,
      "outputs": [
        {
          "output_type": "execute_result",
          "data": {
            "text/plain": [
              "()"
            ]
          },
          "metadata": {},
          "execution_count": 25
        }
      ]
    },
    {
      "cell_type": "code",
      "source": [
        "# check dimension of an array\n",
        "arr = np.array([[3, 6, 1], [2, 3, 4]])\n",
        "arr.ndim"
      ],
      "metadata": {
        "colab": {
          "base_uri": "https://localhost:8080/"
        },
        "id": "MHIKYp56FPkT",
        "outputId": "bb4b7ef5-e192-4170-b168-85509ea8546e"
      },
      "execution_count": null,
      "outputs": [
        {
          "output_type": "execute_result",
          "data": {
            "text/plain": [
              "2"
            ]
          },
          "metadata": {},
          "execution_count": 20
        }
      ]
    },
    {
      "cell_type": "code",
      "source": [
        "arr = np.array([3, 5, 6])\n",
        "arr.ndim"
      ],
      "metadata": {
        "colab": {
          "base_uri": "https://localhost:8080/"
        },
        "id": "SBoG_wsOFYi6",
        "outputId": "c3d7cb6b-e7a5-4174-8a76-2777d5ef43e0"
      },
      "execution_count": null,
      "outputs": [
        {
          "output_type": "execute_result",
          "data": {
            "text/plain": [
              "1"
            ]
          },
          "metadata": {},
          "execution_count": 21
        }
      ]
    },
    {
      "cell_type": "code",
      "source": [
        "arr = np.array(3)\n",
        "arr.ndim"
      ],
      "metadata": {
        "colab": {
          "base_uri": "https://localhost:8080/"
        },
        "id": "hIhDJikJFdwK",
        "outputId": "ed9499b3-29a0-4a61-add1-5a461128931a"
      },
      "execution_count": null,
      "outputs": [
        {
          "output_type": "execute_result",
          "data": {
            "text/plain": [
              "0"
            ]
          },
          "metadata": {},
          "execution_count": 24
        }
      ]
    },
    {
      "cell_type": "code",
      "source": [
        "arr = np.array([3, 5, 9])\n",
        "arr.dtype"
      ],
      "metadata": {
        "colab": {
          "base_uri": "https://localhost:8080/"
        },
        "id": "prFE8BKGFgqA",
        "outputId": "79c6f4ce-d6fd-4223-c937-a6eee8b0be7d"
      },
      "execution_count": null,
      "outputs": [
        {
          "output_type": "execute_result",
          "data": {
            "text/plain": [
              "dtype('int64')"
            ]
          },
          "metadata": {},
          "execution_count": 26
        }
      ]
    },
    {
      "cell_type": "code",
      "source": [
        "arr = np.array([True, False, False])\n",
        "arr.dtype"
      ],
      "metadata": {
        "colab": {
          "base_uri": "https://localhost:8080/"
        },
        "id": "6b5-yDiwFubD",
        "outputId": "690c5431-08ab-4fd0-9f25-a1d34217466e"
      },
      "execution_count": null,
      "outputs": [
        {
          "output_type": "execute_result",
          "data": {
            "text/plain": [
              "dtype('bool')"
            ]
          },
          "metadata": {},
          "execution_count": 27
        }
      ]
    },
    {
      "cell_type": "code",
      "source": [
        "arr = np.array([4.2, 6.8, 1.1])\n",
        "arr.dtype"
      ],
      "metadata": {
        "colab": {
          "base_uri": "https://localhost:8080/"
        },
        "id": "7s2my1UiFzjh",
        "outputId": "efe8c8ea-b2c6-4f8c-d57d-c9cf9b1cc242"
      },
      "execution_count": null,
      "outputs": [
        {
          "output_type": "execute_result",
          "data": {
            "text/plain": [
              "dtype('float64')"
            ]
          },
          "metadata": {},
          "execution_count": 32
        }
      ]
    },
    {
      "cell_type": "code",
      "source": [
        "arr = np.array(['a', 'b', 'c'])\n",
        "arr.dtype"
      ],
      "metadata": {
        "colab": {
          "base_uri": "https://localhost:8080/"
        },
        "id": "tvaG_ggYF3Ij",
        "outputId": "4f733fc3-ee7f-4480-d52e-22b3e3cce8f3"
      },
      "execution_count": null,
      "outputs": [
        {
          "output_type": "execute_result",
          "data": {
            "text/plain": [
              "dtype('<U1')"
            ]
          },
          "metadata": {},
          "execution_count": 33
        }
      ]
    },
    {
      "cell_type": "markdown",
      "source": [
        "### Indexing and Slicing"
      ],
      "metadata": {
        "id": "z1cJjvwVWUmk"
      }
    },
    {
      "cell_type": "code",
      "source": [
        "# indexing\n",
        "arr = np.array([2, 6, 3, 9, 1])\n",
        "arr[3]"
      ],
      "metadata": {
        "colab": {
          "base_uri": "https://localhost:8080/"
        },
        "id": "hWAfLMNHGrdy",
        "outputId": "3234cd1c-dd90-41a5-9557-14eecb924d9d"
      },
      "execution_count": null,
      "outputs": [
        {
          "output_type": "execute_result",
          "data": {
            "text/plain": [
              "np.int64(9)"
            ]
          },
          "metadata": {},
          "execution_count": 34
        }
      ]
    },
    {
      "cell_type": "code",
      "source": [
        "arr[0]"
      ],
      "metadata": {
        "colab": {
          "base_uri": "https://localhost:8080/"
        },
        "id": "vqKRLZJ9HLBF",
        "outputId": "f21a8c42-9ad2-4f7c-acfd-81dfd263d6c3"
      },
      "execution_count": null,
      "outputs": [
        {
          "output_type": "execute_result",
          "data": {
            "text/plain": [
              "np.int64(2)"
            ]
          },
          "metadata": {},
          "execution_count": 35
        }
      ]
    },
    {
      "cell_type": "code",
      "source": [
        "arr[-1]"
      ],
      "metadata": {
        "colab": {
          "base_uri": "https://localhost:8080/"
        },
        "id": "PsKVqgtMHOOn",
        "outputId": "bcd9c1e9-215b-4a91-c372-241891d8aba7"
      },
      "execution_count": null,
      "outputs": [
        {
          "output_type": "execute_result",
          "data": {
            "text/plain": [
              "np.int64(1)"
            ]
          },
          "metadata": {},
          "execution_count": 36
        }
      ]
    },
    {
      "cell_type": "code",
      "source": [
        "arr = np.array([[2, 1, 4], [4, 3, 6]])\n",
        "arr[1]"
      ],
      "metadata": {
        "colab": {
          "base_uri": "https://localhost:8080/"
        },
        "id": "p-qHJxbIHPag",
        "outputId": "c7b26ca0-6ec5-4bdd-c5dd-f2de66149b0b"
      },
      "execution_count": null,
      "outputs": [
        {
          "output_type": "execute_result",
          "data": {
            "text/plain": [
              "array([4, 3, 6])"
            ]
          },
          "metadata": {},
          "execution_count": 45
        }
      ]
    },
    {
      "cell_type": "code",
      "source": [
        "arr[0, 2]"
      ],
      "metadata": {
        "colab": {
          "base_uri": "https://localhost:8080/"
        },
        "id": "fnND0T2nH1w8",
        "outputId": "5aac0365-406a-4f04-c9f1-8f0d151af011"
      },
      "execution_count": null,
      "outputs": [
        {
          "output_type": "execute_result",
          "data": {
            "text/plain": [
              "np.int64(4)"
            ]
          },
          "metadata": {},
          "execution_count": 46
        }
      ]
    },
    {
      "cell_type": "code",
      "source": [
        "# slicing\n",
        "arr = np.array([1, 3, 2, 4, 5, 3, 6])\n",
        "arr[2:4]"
      ],
      "metadata": {
        "colab": {
          "base_uri": "https://localhost:8080/"
        },
        "id": "PbEJCdiwHQa7",
        "outputId": "a7786761-0dc9-4718-c361-9ecfa37c1507"
      },
      "execution_count": null,
      "outputs": [
        {
          "output_type": "execute_result",
          "data": {
            "text/plain": [
              "array([2, 4])"
            ]
          },
          "metadata": {},
          "execution_count": 39
        }
      ]
    },
    {
      "cell_type": "code",
      "source": [
        "arr[0:-1]"
      ],
      "metadata": {
        "colab": {
          "base_uri": "https://localhost:8080/"
        },
        "id": "IX_Ih8lcHhSZ",
        "outputId": "e2226c2b-5c06-4cc6-a92c-b5d6ba126ccc"
      },
      "execution_count": null,
      "outputs": [
        {
          "output_type": "execute_result",
          "data": {
            "text/plain": [
              "array([1, 3, 2, 4, 5, 3])"
            ]
          },
          "metadata": {},
          "execution_count": 40
        }
      ]
    },
    {
      "cell_type": "code",
      "source": [
        "arr[5::]"
      ],
      "metadata": {
        "colab": {
          "base_uri": "https://localhost:8080/"
        },
        "id": "mJw915YSHk4L",
        "outputId": "b351dee4-c3f4-4f74-a0b7-7101641172f7"
      },
      "execution_count": null,
      "outputs": [
        {
          "output_type": "execute_result",
          "data": {
            "text/plain": [
              "array([3, 6])"
            ]
          },
          "metadata": {},
          "execution_count": 41
        }
      ]
    },
    {
      "cell_type": "code",
      "source": [
        "arr[3::-1]"
      ],
      "metadata": {
        "colab": {
          "base_uri": "https://localhost:8080/"
        },
        "id": "hdfi9iacHoVU",
        "outputId": "4fb9e0bd-8a13-4685-c9eb-637386aab369"
      },
      "execution_count": null,
      "outputs": [
        {
          "output_type": "execute_result",
          "data": {
            "text/plain": [
              "array([[4, 3, 6],\n",
              "       [2, 1, 4]])"
            ]
          },
          "metadata": {},
          "execution_count": 47
        }
      ]
    },
    {
      "cell_type": "code",
      "source": [
        "# reshaping\n",
        "arr = np.ones(6)\n",
        "arr.reshape(2, 3)"
      ],
      "metadata": {
        "colab": {
          "base_uri": "https://localhost:8080/"
        },
        "id": "kwpMYKCXHq3B",
        "outputId": "150a8898-a964-41b6-c34e-8e5a96c90022"
      },
      "execution_count": null,
      "outputs": [
        {
          "output_type": "execute_result",
          "data": {
            "text/plain": [
              "array([[1., 1., 1.],\n",
              "       [1., 1., 1.]])"
            ]
          },
          "metadata": {},
          "execution_count": 48
        }
      ]
    },
    {
      "cell_type": "code",
      "source": [
        "arr = np.arange(9)\n",
        "arr.reshape(3, 3)"
      ],
      "metadata": {
        "colab": {
          "base_uri": "https://localhost:8080/"
        },
        "id": "urM59vQFKVMC",
        "outputId": "cf1aaa7c-b055-4e6f-fd2a-848703daa41e"
      },
      "execution_count": null,
      "outputs": [
        {
          "output_type": "execute_result",
          "data": {
            "text/plain": [
              "array([[0, 1, 2],\n",
              "       [3, 4, 5],\n",
              "       [6, 7, 8]])"
            ]
          },
          "metadata": {},
          "execution_count": 50
        }
      ]
    },
    {
      "cell_type": "markdown",
      "source": [
        "### Practice Questions - Set 1"
      ],
      "metadata": {
        "id": "RsbdFwJJWZ2Z"
      }
    },
    {
      "cell_type": "code",
      "source": [
        "# Q. Create a 1D array of numbers from 0 to 9\n",
        "arr = np.arange(10)\n",
        "arr"
      ],
      "metadata": {
        "colab": {
          "base_uri": "https://localhost:8080/"
        },
        "id": "aJb9sKJPKbdP",
        "outputId": "89bf6955-cc4d-49a5-ca1c-8db00c7b8f90"
      },
      "execution_count": null,
      "outputs": [
        {
          "output_type": "execute_result",
          "data": {
            "text/plain": [
              "array([0, 1, 2, 3, 4, 5, 6, 7, 8, 9])"
            ]
          },
          "metadata": {},
          "execution_count": 58
        }
      ]
    },
    {
      "cell_type": "code",
      "source": [
        "# Q. Generate a 3x3 array with all elements as 1\n",
        "arr = np.ones((3, 3))\n",
        "arr"
      ],
      "metadata": {
        "colab": {
          "base_uri": "https://localhost:8080/"
        },
        "id": "3Q-FGAxqKjHA",
        "outputId": "be0c4fcf-5510-4690-d100-00532aecf1b1"
      },
      "execution_count": null,
      "outputs": [
        {
          "output_type": "execute_result",
          "data": {
            "text/plain": [
              "array([[1., 1., 1.],\n",
              "       [1., 1., 1.],\n",
              "       [1., 1., 1.]])"
            ]
          },
          "metadata": {},
          "execution_count": 60
        }
      ]
    },
    {
      "cell_type": "code",
      "source": [
        "# Q. Create an array of 10 numbers evenly spaces between 5 and 50\n",
        "arr = np.linspace(5, 50, 10)\n",
        "arr"
      ],
      "metadata": {
        "colab": {
          "base_uri": "https://localhost:8080/"
        },
        "id": "xdta6BuxKkVt",
        "outputId": "bff55094-c61b-4325-bc87-d1a23a1897d2"
      },
      "execution_count": null,
      "outputs": [
        {
          "output_type": "execute_result",
          "data": {
            "text/plain": [
              "array([ 5., 10., 15., 20., 25., 30., 35., 40., 45., 50.])"
            ]
          },
          "metadata": {},
          "execution_count": 61
        }
      ]
    },
    {
      "cell_type": "code",
      "source": [
        "# Q. Reshape a 1D array of 12 elements into a 3x4 matrix.\n",
        "arr = np.arange(12)\n",
        "arr.reshape(3, 4)"
      ],
      "metadata": {
        "colab": {
          "base_uri": "https://localhost:8080/"
        },
        "id": "AaA_3YCwLZqo",
        "outputId": "a4b06429-2d8d-43bd-abc7-25c7491565db"
      },
      "execution_count": null,
      "outputs": [
        {
          "output_type": "execute_result",
          "data": {
            "text/plain": [
              "array([[ 0,  1,  2,  3],\n",
              "       [ 4,  5,  6,  7],\n",
              "       [ 8,  9, 10, 11]])"
            ]
          },
          "metadata": {},
          "execution_count": 65
        }
      ]
    },
    {
      "cell_type": "code",
      "source": [
        "# Q. Reverse an array using slicing.\n",
        "arr = np.array([[2, 4, 7], [1, 3, 2], [5, 4, 1], [6, 3, 4]])\n",
        "arr[::-1]"
      ],
      "metadata": {
        "colab": {
          "base_uri": "https://localhost:8080/"
        },
        "id": "xi8DjY2ELmH-",
        "outputId": "daf82ec8-879d-462a-f578-bcb485fa7b17"
      },
      "execution_count": null,
      "outputs": [
        {
          "output_type": "execute_result",
          "data": {
            "text/plain": [
              "array([[6, 3, 4],\n",
              "       [5, 4, 1],\n",
              "       [1, 3, 2],\n",
              "       [2, 4, 7]])"
            ]
          },
          "metadata": {},
          "execution_count": 67
        }
      ]
    },
    {
      "cell_type": "markdown",
      "source": [
        "### Array Operations"
      ],
      "metadata": {
        "id": "BlpsXMDDWhTl"
      }
    },
    {
      "cell_type": "code",
      "source": [
        "# element-wise operations\n",
        "a = np.array([2, 3, 6, 5])\n",
        "b = np.array([2, 1, 8, 2])\n",
        "print(f'{a} +  {b} = {a+b}')\n",
        "print(f'{a} -  {b} = {a-b}')\n",
        "print(f'{a} x  {b} = {a*b}')\n",
        "print(f'{a} /  {b} = {a/b}')\n",
        "print(f'{a} %  {b} = {a%b}')\n",
        "print(f'{a} // {b} = {a//b}')\n",
        "print(f'{a} ** {b} = {a**b}')"
      ],
      "metadata": {
        "colab": {
          "base_uri": "https://localhost:8080/"
        },
        "id": "3nZ6P9qFL2fj",
        "outputId": "6d2425c3-b140-404b-f22d-073f203ff4fb"
      },
      "execution_count": null,
      "outputs": [
        {
          "output_type": "stream",
          "name": "stdout",
          "text": [
            "[2 3 6 5] +  [2 1 8 2] = [ 4  4 14  7]\n",
            "[2 3 6 5] -  [2 1 8 2] = [ 0  2 -2  3]\n",
            "[2 3 6 5] x  [2 1 8 2] = [ 4  3 48 10]\n",
            "[2 3 6 5] /  [2 1 8 2] = [1.   3.   0.75 2.5 ]\n",
            "[2 3 6 5] %  [2 1 8 2] = [0 0 6 1]\n",
            "[2 3 6 5] // [2 1 8 2] = [1 3 0 2]\n",
            "[2 3 6 5] ** [2 1 8 2] = [      4       3 1679616      25]\n"
          ]
        }
      ]
    },
    {
      "cell_type": "code",
      "source": [
        "# broadcasting\n",
        "a = np.array([[4, 2, 7], [1, 3, 2]])\n",
        "b = np.array([2, 3, 5]) # [[2, 3, 5], [2, 3, 5]]\n",
        "a + b"
      ],
      "metadata": {
        "colab": {
          "base_uri": "https://localhost:8080/"
        },
        "id": "G6-YmBXCMeKa",
        "outputId": "c07cc58f-01ad-4288-e0f4-bb074c871927"
      },
      "execution_count": null,
      "outputs": [
        {
          "output_type": "execute_result",
          "data": {
            "text/plain": [
              "array([[ 6,  5, 12],\n",
              "       [ 3,  6,  7]])"
            ]
          },
          "metadata": {},
          "execution_count": 72
        }
      ]
    },
    {
      "cell_type": "code",
      "source": [
        "a*b"
      ],
      "metadata": {
        "colab": {
          "base_uri": "https://localhost:8080/"
        },
        "id": "MGKf4dV0gg1j",
        "outputId": "54167f33-f750-4528-ce37-3adb15245ba9"
      },
      "execution_count": null,
      "outputs": [
        {
          "output_type": "execute_result",
          "data": {
            "text/plain": [
              "array([[ 8,  6, 35],\n",
              "       [ 2,  9, 10]])"
            ]
          },
          "metadata": {},
          "execution_count": 73
        }
      ]
    },
    {
      "cell_type": "code",
      "source": [
        "# aggregate function\n",
        "a"
      ],
      "metadata": {
        "colab": {
          "base_uri": "https://localhost:8080/"
        },
        "id": "cB8fZJD1gt59",
        "outputId": "fbeb8dff-1d23-4297-f955-65cfdae9ea19"
      },
      "execution_count": null,
      "outputs": [
        {
          "output_type": "execute_result",
          "data": {
            "text/plain": [
              "array([[4, 2, 7],\n",
              "       [1, 3, 2]])"
            ]
          },
          "metadata": {},
          "execution_count": 74
        }
      ]
    },
    {
      "cell_type": "code",
      "source": [
        "np.sum(a)"
      ],
      "metadata": {
        "colab": {
          "base_uri": "https://localhost:8080/"
        },
        "id": "EG8CUEjJhBfv",
        "outputId": "5de832de-cbdb-4c9e-f10f-462daad9cc40"
      },
      "execution_count": null,
      "outputs": [
        {
          "output_type": "execute_result",
          "data": {
            "text/plain": [
              "np.int64(19)"
            ]
          },
          "metadata": {},
          "execution_count": 75
        }
      ]
    },
    {
      "cell_type": "code",
      "source": [
        "np.average(a)"
      ],
      "metadata": {
        "colab": {
          "base_uri": "https://localhost:8080/"
        },
        "id": "KVMvYmUWhGWY",
        "outputId": "64885664-9f98-454a-fd4f-b61b53af6832"
      },
      "execution_count": null,
      "outputs": [
        {
          "output_type": "execute_result",
          "data": {
            "text/plain": [
              "np.float64(3.1666666666666665)"
            ]
          },
          "metadata": {},
          "execution_count": 76
        }
      ]
    },
    {
      "cell_type": "code",
      "source": [
        "np.mean(a)"
      ],
      "metadata": {
        "colab": {
          "base_uri": "https://localhost:8080/"
        },
        "id": "KFHNDN_rhMOm",
        "outputId": "9c4e1a4b-c657-4d7c-f4ff-1925d9343bcb"
      },
      "execution_count": null,
      "outputs": [
        {
          "output_type": "execute_result",
          "data": {
            "text/plain": [
              "np.float64(3.1666666666666665)"
            ]
          },
          "metadata": {},
          "execution_count": 77
        }
      ]
    },
    {
      "cell_type": "code",
      "source": [
        "np.std(a)"
      ],
      "metadata": {
        "colab": {
          "base_uri": "https://localhost:8080/"
        },
        "id": "_pnrIQ9IhOOC",
        "outputId": "66a34333-c767-4323-ff01-3108c3a7911c"
      },
      "execution_count": null,
      "outputs": [
        {
          "output_type": "execute_result",
          "data": {
            "text/plain": [
              "np.float64(1.9507833184532708)"
            ]
          },
          "metadata": {},
          "execution_count": 78
        }
      ]
    },
    {
      "cell_type": "code",
      "source": [
        "a"
      ],
      "metadata": {
        "colab": {
          "base_uri": "https://localhost:8080/"
        },
        "id": "pdSfUn5jnVw_",
        "outputId": "f22178cb-ffab-4cd0-b92a-33dc2671c30a"
      },
      "execution_count": null,
      "outputs": [
        {
          "output_type": "execute_result",
          "data": {
            "text/plain": [
              "array([[4, 2, 7],\n",
              "       [1, 3, 2]])"
            ]
          },
          "metadata": {},
          "execution_count": 79
        }
      ]
    },
    {
      "cell_type": "code",
      "source": [
        "np.min(a) # overall"
      ],
      "metadata": {
        "colab": {
          "base_uri": "https://localhost:8080/"
        },
        "id": "yXY1ypUghQGP",
        "outputId": "900e2ae7-571b-45e5-e650-cb9b376283ff"
      },
      "execution_count": null,
      "outputs": [
        {
          "output_type": "execute_result",
          "data": {
            "text/plain": [
              "np.int64(1)"
            ]
          },
          "metadata": {},
          "execution_count": 80
        }
      ]
    },
    {
      "cell_type": "code",
      "source": [
        "np.min(a, axis=0) # column wise"
      ],
      "metadata": {
        "colab": {
          "base_uri": "https://localhost:8080/"
        },
        "id": "XUC8U_xknXR7",
        "outputId": "a188d0b0-e6ed-41d3-a988-dd7b8d1bff00"
      },
      "execution_count": null,
      "outputs": [
        {
          "output_type": "execute_result",
          "data": {
            "text/plain": [
              "array([1, 2, 2])"
            ]
          },
          "metadata": {},
          "execution_count": 81
        }
      ]
    },
    {
      "cell_type": "code",
      "source": [
        "np.min(a, axis=1) # row wise"
      ],
      "metadata": {
        "colab": {
          "base_uri": "https://localhost:8080/"
        },
        "id": "s0EKmrIUnZw0",
        "outputId": "baa7e397-43d2-458e-8433-cc568fe66afd"
      },
      "execution_count": null,
      "outputs": [
        {
          "output_type": "execute_result",
          "data": {
            "text/plain": [
              "array([2, 1])"
            ]
          },
          "metadata": {},
          "execution_count": 82
        }
      ]
    },
    {
      "cell_type": "code",
      "source": [
        "# logical operations and filtering\n",
        "b"
      ],
      "metadata": {
        "colab": {
          "base_uri": "https://localhost:8080/"
        },
        "id": "gfo8Q6LKnhsc",
        "outputId": "67360691-3f8c-484a-a41e-3402585a8b3d"
      },
      "execution_count": null,
      "outputs": [
        {
          "output_type": "execute_result",
          "data": {
            "text/plain": [
              "array([2, 3, 5])"
            ]
          },
          "metadata": {},
          "execution_count": 83
        }
      ]
    },
    {
      "cell_type": "code",
      "source": [
        "b > 2"
      ],
      "metadata": {
        "colab": {
          "base_uri": "https://localhost:8080/"
        },
        "id": "N4D1EVh_noG-",
        "outputId": "ff6c9dce-cdd2-4186-ec03-6d29211019bf"
      },
      "execution_count": null,
      "outputs": [
        {
          "output_type": "execute_result",
          "data": {
            "text/plain": [
              "array([False,  True,  True])"
            ]
          },
          "metadata": {},
          "execution_count": 86
        }
      ]
    },
    {
      "cell_type": "code",
      "source": [
        "b[b>2]"
      ],
      "metadata": {
        "colab": {
          "base_uri": "https://localhost:8080/"
        },
        "id": "p-OAIKqHnzvN",
        "outputId": "df8c9d72-90ab-43c6-9388-57d13460f806"
      },
      "execution_count": null,
      "outputs": [
        {
          "output_type": "execute_result",
          "data": {
            "text/plain": [
              "array([3, 5])"
            ]
          },
          "metadata": {},
          "execution_count": 85
        }
      ]
    },
    {
      "cell_type": "code",
      "source": [
        "np.where(b > 2, 'Yes', 'No')"
      ],
      "metadata": {
        "colab": {
          "base_uri": "https://localhost:8080/"
        },
        "id": "ndq5USDrn3Jr",
        "outputId": "2f9e1d40-0a1c-483d-9854-0259d9439626"
      },
      "execution_count": null,
      "outputs": [
        {
          "output_type": "execute_result",
          "data": {
            "text/plain": [
              "array(['No', 'Yes', 'Yes'], dtype='<U3')"
            ]
          },
          "metadata": {},
          "execution_count": 87
        }
      ]
    },
    {
      "cell_type": "code",
      "source": [
        "np.any(b>4)"
      ],
      "metadata": {
        "colab": {
          "base_uri": "https://localhost:8080/"
        },
        "id": "uybbP5T2oBGI",
        "outputId": "6fd698a2-3af8-4528-992d-823504a78dfe"
      },
      "execution_count": null,
      "outputs": [
        {
          "output_type": "execute_result",
          "data": {
            "text/plain": [
              "np.True_"
            ]
          },
          "metadata": {},
          "execution_count": 88
        }
      ]
    },
    {
      "cell_type": "code",
      "source": [
        "np.all(b>4)"
      ],
      "metadata": {
        "colab": {
          "base_uri": "https://localhost:8080/"
        },
        "id": "wAZsBeK3oHG0",
        "outputId": "c83fff6a-4fcb-4b4a-e002-876b0e7727c5"
      },
      "execution_count": null,
      "outputs": [
        {
          "output_type": "execute_result",
          "data": {
            "text/plain": [
              "np.False_"
            ]
          },
          "metadata": {},
          "execution_count": 89
        }
      ]
    },
    {
      "cell_type": "markdown",
      "source": [
        "### Practice Questions - Set 2"
      ],
      "metadata": {
        "id": "1qs1laNGWqmS"
      }
    },
    {
      "cell_type": "code",
      "source": [
        "# Q. Create two 2D arrays and perform addition, subtraction and multiplication.\n",
        "a = np.arange(6, 15).reshape(3, 3)\n",
        "b = np.array([3, 4, 7])"
      ],
      "metadata": {
        "id": "uSGc_9tQoIaG"
      },
      "execution_count": null,
      "outputs": []
    },
    {
      "cell_type": "code",
      "source": [
        "a"
      ],
      "metadata": {
        "colab": {
          "base_uri": "https://localhost:8080/"
        },
        "id": "zfNZxD-vofjX",
        "outputId": "69d64306-3d71-4f3d-cac1-7cd79370840f"
      },
      "execution_count": null,
      "outputs": [
        {
          "output_type": "execute_result",
          "data": {
            "text/plain": [
              "array([[ 6,  7,  8],\n",
              "       [ 9, 10, 11],\n",
              "       [12, 13, 14]])"
            ]
          },
          "metadata": {},
          "execution_count": 93
        }
      ]
    },
    {
      "cell_type": "code",
      "source": [
        "b"
      ],
      "metadata": {
        "colab": {
          "base_uri": "https://localhost:8080/"
        },
        "id": "uvyd3vUvoq5T",
        "outputId": "40fe5da0-63cb-402e-bcb5-09f2f34cee18"
      },
      "execution_count": null,
      "outputs": [
        {
          "output_type": "execute_result",
          "data": {
            "text/plain": [
              "array([3, 4, 7])"
            ]
          },
          "metadata": {},
          "execution_count": 94
        }
      ]
    },
    {
      "cell_type": "code",
      "source": [
        "a + b"
      ],
      "metadata": {
        "colab": {
          "base_uri": "https://localhost:8080/"
        },
        "id": "gDFi7SFZorPJ",
        "outputId": "7fcefaf6-9a47-4843-bbd5-6a9adc9f03d6"
      },
      "execution_count": null,
      "outputs": [
        {
          "output_type": "execute_result",
          "data": {
            "text/plain": [
              "array([[ 9, 11, 15],\n",
              "       [12, 14, 18],\n",
              "       [15, 17, 21]])"
            ]
          },
          "metadata": {},
          "execution_count": 95
        }
      ]
    },
    {
      "cell_type": "code",
      "source": [
        "a - b"
      ],
      "metadata": {
        "colab": {
          "base_uri": "https://localhost:8080/"
        },
        "id": "uMWwg4OgosTj",
        "outputId": "7cd2551a-b503-4931-af6a-2f9fdfa7fa57"
      },
      "execution_count": null,
      "outputs": [
        {
          "output_type": "execute_result",
          "data": {
            "text/plain": [
              "array([[3, 3, 1],\n",
              "       [6, 6, 4],\n",
              "       [9, 9, 7]])"
            ]
          },
          "metadata": {},
          "execution_count": 96
        }
      ]
    },
    {
      "cell_type": "code",
      "source": [
        "a * b"
      ],
      "metadata": {
        "colab": {
          "base_uri": "https://localhost:8080/"
        },
        "id": "Bul26HAtotHf",
        "outputId": "c81f3957-2520-4810-d5bc-aaf47e308ba0"
      },
      "execution_count": null,
      "outputs": [
        {
          "output_type": "execute_result",
          "data": {
            "text/plain": [
              "array([[18, 28, 56],\n",
              "       [27, 40, 77],\n",
              "       [36, 52, 98]])"
            ]
          },
          "metadata": {},
          "execution_count": 97
        }
      ]
    },
    {
      "cell_type": "code",
      "source": [
        "# Q. Given an array, replace all odd numbers with -1.\n",
        "a"
      ],
      "metadata": {
        "colab": {
          "base_uri": "https://localhost:8080/"
        },
        "id": "qMDSK-aTpBYJ",
        "outputId": "c199d51b-a54e-469f-fcfa-0204da487144"
      },
      "execution_count": null,
      "outputs": [
        {
          "output_type": "execute_result",
          "data": {
            "text/plain": [
              "array([[ 6,  7,  8],\n",
              "       [ 9, 10, 11],\n",
              "       [12, 13, 14]])"
            ]
          },
          "metadata": {},
          "execution_count": 100
        }
      ]
    },
    {
      "cell_type": "code",
      "source": [
        "np.where(a%2==0, a, -1)"
      ],
      "metadata": {
        "colab": {
          "base_uri": "https://localhost:8080/"
        },
        "id": "W1FH4XXkouDo",
        "outputId": "cc74315a-9836-4226-e1b2-b070b814e93c"
      },
      "execution_count": null,
      "outputs": [
        {
          "output_type": "execute_result",
          "data": {
            "text/plain": [
              "array([[ 6, -1,  8],\n",
              "       [-1, 10, -1],\n",
              "       [12, -1, 14]])"
            ]
          },
          "metadata": {},
          "execution_count": 101
        }
      ]
    },
    {
      "cell_type": "code",
      "source": [
        "# Q. Filter out all elements greater than a specified value.\n",
        "a[a > 10]"
      ],
      "metadata": {
        "colab": {
          "base_uri": "https://localhost:8080/"
        },
        "id": "ED5Qea66p4zp",
        "outputId": "7000872c-0b28-4c04-bfb9-ceea22c53ca8"
      },
      "execution_count": null,
      "outputs": [
        {
          "output_type": "execute_result",
          "data": {
            "text/plain": [
              "array([11, 12, 13, 14])"
            ]
          },
          "metadata": {},
          "execution_count": 102
        }
      ]
    },
    {
      "cell_type": "code",
      "source": [
        "# generate random integers\n",
        "np.random.randint(4)"
      ],
      "metadata": {
        "colab": {
          "base_uri": "https://localhost:8080/"
        },
        "id": "G-vHfglOqx14",
        "outputId": "c6e89813-110d-4d29-e414-f61b400d6840"
      },
      "execution_count": null,
      "outputs": [
        {
          "output_type": "execute_result",
          "data": {
            "text/plain": [
              "1"
            ]
          },
          "metadata": {},
          "execution_count": 117
        }
      ]
    },
    {
      "cell_type": "code",
      "source": [
        "# generate random array\n",
        "np.random.randint((2, 5))"
      ],
      "metadata": {
        "colab": {
          "base_uri": "https://localhost:8080/"
        },
        "id": "8-hLqkl-qxzH",
        "outputId": "f4352b43-906a-4f97-89bc-561c5fc04f1e"
      },
      "execution_count": null,
      "outputs": [
        {
          "output_type": "execute_result",
          "data": {
            "text/plain": [
              "array([1, 2])"
            ]
          },
          "metadata": {},
          "execution_count": 136
        }
      ]
    },
    {
      "cell_type": "code",
      "source": [
        "# generate random 1-dimensional array\n",
        "np.random.randint(1, 5, 3) # low, high, size"
      ],
      "metadata": {
        "colab": {
          "base_uri": "https://localhost:8080/"
        },
        "id": "ddbDsc9CqxxH",
        "outputId": "39c30e49-72c8-4246-b43a-b643b376f50f"
      },
      "execution_count": null,
      "outputs": [
        {
          "output_type": "execute_result",
          "data": {
            "text/plain": [
              "array([2, 2, 4])"
            ]
          },
          "metadata": {},
          "execution_count": 134
        }
      ]
    },
    {
      "cell_type": "code",
      "source": [
        "# generate random 2-dimensional array\n",
        "np.random.randint(3, 8, (2, 3))"
      ],
      "metadata": {
        "colab": {
          "base_uri": "https://localhost:8080/"
        },
        "id": "uIy7nlDPqxvG",
        "outputId": "f1e08a33-a870-422b-c960-be1fa5256dc8"
      },
      "execution_count": null,
      "outputs": [
        {
          "output_type": "execute_result",
          "data": {
            "text/plain": [
              "array([[7, 6, 4],\n",
              "       [3, 6, 3]])"
            ]
          },
          "metadata": {},
          "execution_count": 139
        }
      ]
    },
    {
      "cell_type": "code",
      "source": [
        "# generate random 2-dimensional array\n",
        "np.random.randint(2, 9, (2, 3, 2))"
      ],
      "metadata": {
        "colab": {
          "base_uri": "https://localhost:8080/"
        },
        "id": "cA-Q7INRqxtE",
        "outputId": "85773f88-49b4-4585-f65b-fe08264cb46d"
      },
      "execution_count": null,
      "outputs": [
        {
          "output_type": "execute_result",
          "data": {
            "text/plain": [
              "array([[[8, 3],\n",
              "        [6, 2],\n",
              "        [3, 6]],\n",
              "\n",
              "       [[5, 5],\n",
              "        [8, 7],\n",
              "        [8, 7]]])"
            ]
          },
          "metadata": {},
          "execution_count": 140
        }
      ]
    },
    {
      "cell_type": "code",
      "source": [
        "# generate random float values\n",
        "np.random.rand(5)"
      ],
      "metadata": {
        "colab": {
          "base_uri": "https://localhost:8080/"
        },
        "id": "ZskSMkz8qxpz",
        "outputId": "324ea6c3-14a6-41e4-d975-e2315101b40f"
      },
      "execution_count": null,
      "outputs": [
        {
          "output_type": "execute_result",
          "data": {
            "text/plain": [
              "array([0.28059075, 0.14787335, 0.43464973, 0.75180564, 0.66024291])"
            ]
          },
          "metadata": {},
          "execution_count": 142
        }
      ]
    },
    {
      "cell_type": "code",
      "source": [
        "np.random.rand(3, 4)"
      ],
      "metadata": {
        "colab": {
          "base_uri": "https://localhost:8080/"
        },
        "id": "FQkjPEeYqxnj",
        "outputId": "7def518a-3623-4bbc-ec72-c88fafb5f937"
      },
      "execution_count": null,
      "outputs": [
        {
          "output_type": "execute_result",
          "data": {
            "text/plain": [
              "array([[0.25603593, 0.07740177, 0.50470094, 0.6584014 ],\n",
              "       [0.43718528, 0.34483119, 0.83309459, 0.31522498],\n",
              "       [0.06571979, 0.24750565, 0.04004576, 0.25296869]])"
            ]
          },
          "metadata": {},
          "execution_count": 143
        }
      ]
    },
    {
      "cell_type": "code",
      "source": [
        "np.random.seed(18)\n",
        "np.random.randint(1, 7)"
      ],
      "metadata": {
        "colab": {
          "base_uri": "https://localhost:8080/"
        },
        "id": "KYV20wDqt6v6",
        "outputId": "b8094f9b-2775-4430-d8cb-852a8d6e98ec"
      },
      "execution_count": null,
      "outputs": [
        {
          "output_type": "execute_result",
          "data": {
            "text/plain": [
              "3"
            ]
          },
          "metadata": {},
          "execution_count": 149
        }
      ]
    },
    {
      "cell_type": "code",
      "source": [
        "# Q. Create a random 3x3 array of integers between 1 and 20 and find its maximum along axis 0.\n",
        "arr = np.random.randint(1, 20, (3, 3))\n",
        "arr"
      ],
      "metadata": {
        "colab": {
          "base_uri": "https://localhost:8080/"
        },
        "id": "09y3kRC0qBfx",
        "outputId": "d009459b-1829-4853-94dc-e709d60e96d6"
      },
      "execution_count": null,
      "outputs": [
        {
          "output_type": "execute_result",
          "data": {
            "text/plain": [
              "array([[10,  6, 15],\n",
              "       [ 7, 14,  9],\n",
              "       [19,  1, 10]])"
            ]
          },
          "metadata": {},
          "execution_count": 152
        }
      ]
    },
    {
      "cell_type": "code",
      "source": [
        "np.max(arr, axis=0)"
      ],
      "metadata": {
        "colab": {
          "base_uri": "https://localhost:8080/"
        },
        "id": "nVp5crMFuOwv",
        "outputId": "d0bcb6bc-0576-4780-c3ac-ba6b8f4769c1"
      },
      "execution_count": null,
      "outputs": [
        {
          "output_type": "execute_result",
          "data": {
            "text/plain": [
              "array([19, 14, 15])"
            ]
          },
          "metadata": {},
          "execution_count": 153
        }
      ]
    },
    {
      "cell_type": "markdown",
      "source": [
        "### Array Manipulations"
      ],
      "metadata": {
        "id": "ztMnK39sWys4"
      }
    },
    {
      "cell_type": "code",
      "source": [
        "# stacking Arrays\n",
        "a = np.array([2, 1, 5, 4, 9])\n",
        "b = np.array([1, 5, 4, 8, 5])"
      ],
      "metadata": {
        "id": "fQkQNVQ1uV30"
      },
      "execution_count": null,
      "outputs": []
    },
    {
      "cell_type": "code",
      "source": [
        "np.hstack((a, b))"
      ],
      "metadata": {
        "colab": {
          "base_uri": "https://localhost:8080/"
        },
        "id": "nXappLCfXEpg",
        "outputId": "53fdca9a-6a49-45e9-859f-788f878aff03"
      },
      "execution_count": null,
      "outputs": [
        {
          "output_type": "execute_result",
          "data": {
            "text/plain": [
              "array([2, 1, 5, 4, 9, 1, 5, 4, 8, 5])"
            ]
          },
          "metadata": {},
          "execution_count": 4
        }
      ]
    },
    {
      "cell_type": "code",
      "source": [
        "np.hstack((b, a))"
      ],
      "metadata": {
        "colab": {
          "base_uri": "https://localhost:8080/"
        },
        "id": "EfpRxI57XIHe",
        "outputId": "3d2177dc-0e73-43a1-81f6-bcc101f1c3c3"
      },
      "execution_count": null,
      "outputs": [
        {
          "output_type": "execute_result",
          "data": {
            "text/plain": [
              "array([1, 5, 4, 8, 5, 2, 1, 5, 4, 9])"
            ]
          },
          "metadata": {},
          "execution_count": 5
        }
      ]
    },
    {
      "cell_type": "code",
      "source": [
        "np.vstack((a, b))"
      ],
      "metadata": {
        "colab": {
          "base_uri": "https://localhost:8080/"
        },
        "id": "m7u91rVMXPma",
        "outputId": "d8cc554f-134a-47b2-e3b3-6d0a7d205ffd"
      },
      "execution_count": null,
      "outputs": [
        {
          "output_type": "execute_result",
          "data": {
            "text/plain": [
              "array([[2, 1, 5, 4, 9],\n",
              "       [1, 5, 4, 8, 5]])"
            ]
          },
          "metadata": {},
          "execution_count": 6
        }
      ]
    },
    {
      "cell_type": "code",
      "source": [
        "np.vstack((b, a))"
      ],
      "metadata": {
        "colab": {
          "base_uri": "https://localhost:8080/"
        },
        "id": "TzbNVApxXSvI",
        "outputId": "0afa4971-d573-47d0-d490-f8ec843c4fc2"
      },
      "execution_count": null,
      "outputs": [
        {
          "output_type": "execute_result",
          "data": {
            "text/plain": [
              "array([[1, 5, 4, 8, 5],\n",
              "       [2, 1, 5, 4, 9]])"
            ]
          },
          "metadata": {},
          "execution_count": 7
        }
      ]
    },
    {
      "cell_type": "code",
      "source": [
        "np.concatenate((a, b))"
      ],
      "metadata": {
        "colab": {
          "base_uri": "https://localhost:8080/"
        },
        "id": "5_qCQgeKXUxF",
        "outputId": "019a84fb-5d25-4ed7-bb75-ed09577a3429"
      },
      "execution_count": null,
      "outputs": [
        {
          "output_type": "execute_result",
          "data": {
            "text/plain": [
              "array([2, 1, 5, 4, 9, 1, 5, 4, 8, 5])"
            ]
          },
          "metadata": {},
          "execution_count": 8
        }
      ]
    },
    {
      "cell_type": "code",
      "source": [
        "np.concatenate((a, b), axis=0)"
      ],
      "metadata": {
        "colab": {
          "base_uri": "https://localhost:8080/"
        },
        "id": "pHMzE3hkXeGB",
        "outputId": "392b0ce7-a935-4109-da1d-59ff22e34e0c"
      },
      "execution_count": null,
      "outputs": [
        {
          "output_type": "execute_result",
          "data": {
            "text/plain": [
              "array([2, 1, 5, 4, 9, 1, 5, 4, 8, 5])"
            ]
          },
          "metadata": {},
          "execution_count": 9
        }
      ]
    },
    {
      "cell_type": "code",
      "source": [
        "np.concatenate((b, a), axis=0)"
      ],
      "metadata": {
        "colab": {
          "base_uri": "https://localhost:8080/"
        },
        "id": "eTxoq7raXho3",
        "outputId": "cc78d6ca-664f-44d7-879c-e982817e91a0"
      },
      "execution_count": null,
      "outputs": [
        {
          "output_type": "execute_result",
          "data": {
            "text/plain": [
              "array([1, 5, 4, 8, 5, 2, 1, 5, 4, 9])"
            ]
          },
          "metadata": {},
          "execution_count": 11
        }
      ]
    },
    {
      "cell_type": "code",
      "source": [
        "a = np.random.randint(1, 10, (3, 4))\n",
        "b = np.random.randint(3, 15, (4, 4))"
      ],
      "metadata": {
        "id": "rUIFxZhdXj45"
      },
      "execution_count": null,
      "outputs": []
    },
    {
      "cell_type": "code",
      "source": [
        "a"
      ],
      "metadata": {
        "colab": {
          "base_uri": "https://localhost:8080/"
        },
        "id": "sV48ivHUX9ps",
        "outputId": "70bfbe2f-b3d0-4e37-d8a3-2344258ba735"
      },
      "execution_count": null,
      "outputs": [
        {
          "output_type": "execute_result",
          "data": {
            "text/plain": [
              "array([[4, 5, 8, 5],\n",
              "       [4, 2, 2, 8],\n",
              "       [7, 6, 9, 4]])"
            ]
          },
          "metadata": {},
          "execution_count": 13
        }
      ]
    },
    {
      "cell_type": "code",
      "source": [
        "b"
      ],
      "metadata": {
        "colab": {
          "base_uri": "https://localhost:8080/"
        },
        "id": "QG7lFJQLX_iN",
        "outputId": "fd9a200a-b07a-4387-c93e-36ef921c0238"
      },
      "execution_count": null,
      "outputs": [
        {
          "output_type": "execute_result",
          "data": {
            "text/plain": [
              "array([[ 6,  5, 13,  5],\n",
              "       [10, 13,  6,  8],\n",
              "       [12,  5, 12, 12],\n",
              "       [ 7,  8, 11, 10]])"
            ]
          },
          "metadata": {},
          "execution_count": 14
        }
      ]
    },
    {
      "cell_type": "code",
      "source": [
        "np.vstack((a, b)) # hstack is not possible for (3x4 and 4x4)"
      ],
      "metadata": {
        "colab": {
          "base_uri": "https://localhost:8080/"
        },
        "id": "c-pawXalYAJ-",
        "outputId": "b64a4cf7-5b74-4606-e426-a9adbf610c41"
      },
      "execution_count": null,
      "outputs": [
        {
          "output_type": "execute_result",
          "data": {
            "text/plain": [
              "array([[ 4,  5,  8,  5],\n",
              "       [ 4,  2,  2,  8],\n",
              "       [ 7,  6,  9,  4],\n",
              "       [ 6,  5, 13,  5],\n",
              "       [10, 13,  6,  8],\n",
              "       [12,  5, 12, 12],\n",
              "       [ 7,  8, 11, 10]])"
            ]
          },
          "metadata": {},
          "execution_count": 16
        }
      ]
    },
    {
      "cell_type": "code",
      "source": [
        "np.vstack((b, a))"
      ],
      "metadata": {
        "colab": {
          "base_uri": "https://localhost:8080/"
        },
        "id": "ipf9_TKDYsMr",
        "outputId": "d0366077-7d30-429c-9635-71456a255bfd"
      },
      "execution_count": null,
      "outputs": [
        {
          "output_type": "execute_result",
          "data": {
            "text/plain": [
              "array([[ 6,  5, 13,  5],\n",
              "       [10, 13,  6,  8],\n",
              "       [12,  5, 12, 12],\n",
              "       [ 7,  8, 11, 10],\n",
              "       [ 4,  5,  8,  5],\n",
              "       [ 4,  2,  2,  8],\n",
              "       [ 7,  6,  9,  4]])"
            ]
          },
          "metadata": {},
          "execution_count": 20
        }
      ]
    },
    {
      "cell_type": "code",
      "source": [
        "np.concatenate((a, b)) # axis=0 acts as vertical stacking"
      ],
      "metadata": {
        "colab": {
          "base_uri": "https://localhost:8080/"
        },
        "id": "ylLB7EJrYB3A",
        "outputId": "46c03420-c82d-432e-a022-e8783a761fc4"
      },
      "execution_count": null,
      "outputs": [
        {
          "output_type": "execute_result",
          "data": {
            "text/plain": [
              "array([[ 4,  5,  8,  5],\n",
              "       [ 4,  2,  2,  8],\n",
              "       [ 7,  6,  9,  4],\n",
              "       [ 6,  5, 13,  5],\n",
              "       [10, 13,  6,  8],\n",
              "       [12,  5, 12, 12],\n",
              "       [ 7,  8, 11, 10]])"
            ]
          },
          "metadata": {},
          "execution_count": 17
        }
      ]
    },
    {
      "cell_type": "code",
      "source": [
        "np.concatenate((b, a))"
      ],
      "metadata": {
        "colab": {
          "base_uri": "https://localhost:8080/"
        },
        "id": "4FLy-XXXYQ7M",
        "outputId": "f392a1d0-f787-4213-c57b-4293cd176646"
      },
      "execution_count": null,
      "outputs": [
        {
          "output_type": "execute_result",
          "data": {
            "text/plain": [
              "array([[ 6,  5, 13,  5],\n",
              "       [10, 13,  6,  8],\n",
              "       [12,  5, 12, 12],\n",
              "       [ 7,  8, 11, 10],\n",
              "       [ 4,  5,  8,  5],\n",
              "       [ 4,  2,  2,  8],\n",
              "       [ 7,  6,  9,  4]])"
            ]
          },
          "metadata": {},
          "execution_count": 22
        }
      ]
    },
    {
      "cell_type": "code",
      "source": [
        "a = np.random.randn(3, 5)\n",
        "b = np.random.randn(3, 4)"
      ],
      "metadata": {
        "id": "fek1MAFjYkOY"
      },
      "execution_count": null,
      "outputs": []
    },
    {
      "cell_type": "code",
      "source": [
        "a"
      ],
      "metadata": {
        "colab": {
          "base_uri": "https://localhost:8080/"
        },
        "id": "u7o0RwM6ZKaw",
        "outputId": "6acf61cc-68d0-48bc-ca6e-ee763c435577"
      },
      "execution_count": null,
      "outputs": [
        {
          "output_type": "execute_result",
          "data": {
            "text/plain": [
              "array([[ 0.56575119,  0.28626894, -1.38784273, -1.4248273 ,  1.43803841],\n",
              "       [-0.76801552,  0.29456934,  1.61256273, -1.08758565, -0.39065691],\n",
              "       [ 0.06925078,  0.7018503 , -0.63168317,  0.58896785,  0.27162015]])"
            ]
          },
          "metadata": {},
          "execution_count": 27
        }
      ]
    },
    {
      "cell_type": "code",
      "source": [
        "b"
      ],
      "metadata": {
        "colab": {
          "base_uri": "https://localhost:8080/"
        },
        "id": "iPkAqLX-ZL-0",
        "outputId": "624e1daa-68bd-4fc9-d2d0-948cab383195"
      },
      "execution_count": null,
      "outputs": [
        {
          "output_type": "execute_result",
          "data": {
            "text/plain": [
              "array([[ 1.35927347,  0.85479387, -0.1190375 , -0.61079705],\n",
              "       [ 0.60562302,  0.94143676,  2.0609693 ,  2.19073607],\n",
              "       [-0.605557  , -1.46762056,  2.2305251 ,  0.02748521]])"
            ]
          },
          "metadata": {},
          "execution_count": 28
        }
      ]
    },
    {
      "cell_type": "code",
      "source": [
        "np.hstack((a, b)) # vstack is not possible for (3x4 and 3x5)"
      ],
      "metadata": {
        "colab": {
          "base_uri": "https://localhost:8080/"
        },
        "id": "Q4w7IwwgZV4n",
        "outputId": "fcf7d558-b5c2-48f8-8b03-f0394c59385a"
      },
      "execution_count": null,
      "outputs": [
        {
          "output_type": "execute_result",
          "data": {
            "text/plain": [
              "array([[ 0.56575119,  0.28626894, -1.38784273, -1.4248273 ,  1.43803841,\n",
              "         1.35927347,  0.85479387, -0.1190375 , -0.61079705],\n",
              "       [-0.76801552,  0.29456934,  1.61256273, -1.08758565, -0.39065691,\n",
              "         0.60562302,  0.94143676,  2.0609693 ,  2.19073607],\n",
              "       [ 0.06925078,  0.7018503 , -0.63168317,  0.58896785,  0.27162015,\n",
              "        -0.605557  , -1.46762056,  2.2305251 ,  0.02748521]])"
            ]
          },
          "metadata": {},
          "execution_count": 29
        }
      ]
    },
    {
      "cell_type": "code",
      "source": [
        "np.concatenate((a, b), axis=1) # axis=1 acts as horizontal stacking"
      ],
      "metadata": {
        "colab": {
          "base_uri": "https://localhost:8080/"
        },
        "id": "QhO-0U9cZbjT",
        "outputId": "d7f0f4e5-706f-4feb-90ce-0108b5db0727"
      },
      "execution_count": null,
      "outputs": [
        {
          "output_type": "execute_result",
          "data": {
            "text/plain": [
              "array([[ 0.56575119,  0.28626894, -1.38784273, -1.4248273 ,  1.43803841,\n",
              "         1.35927347,  0.85479387, -0.1190375 , -0.61079705],\n",
              "       [-0.76801552,  0.29456934,  1.61256273, -1.08758565, -0.39065691,\n",
              "         0.60562302,  0.94143676,  2.0609693 ,  2.19073607],\n",
              "       [ 0.06925078,  0.7018503 , -0.63168317,  0.58896785,  0.27162015,\n",
              "        -0.605557  , -1.46762056,  2.2305251 ,  0.02748521]])"
            ]
          },
          "metadata": {},
          "execution_count": 32
        }
      ]
    },
    {
      "cell_type": "code",
      "source": [
        "# splitting of an array\n",
        "arr = np.arange(3, 15, 2)\n",
        "arr"
      ],
      "metadata": {
        "colab": {
          "base_uri": "https://localhost:8080/"
        },
        "id": "WOLH1TMlZhjd",
        "outputId": "6668ed51-ee07-4a54-d0c5-1cfe83429e68"
      },
      "execution_count": null,
      "outputs": [
        {
          "output_type": "execute_result",
          "data": {
            "text/plain": [
              "array([ 3,  5,  7,  9, 11, 13])"
            ]
          },
          "metadata": {},
          "execution_count": 33
        }
      ]
    },
    {
      "cell_type": "code",
      "source": [
        "# splitting of 1D array\n",
        "np.split(arr, 2)"
      ],
      "metadata": {
        "colab": {
          "base_uri": "https://localhost:8080/"
        },
        "id": "47gbhOUcaFMW",
        "outputId": "e39272fe-91bb-4af1-d6c3-e17ea0681a6b"
      },
      "execution_count": null,
      "outputs": [
        {
          "output_type": "execute_result",
          "data": {
            "text/plain": [
              "[array([3, 5, 7]), array([ 9, 11, 13])]"
            ]
          },
          "metadata": {},
          "execution_count": 34
        }
      ]
    },
    {
      "cell_type": "code",
      "source": [
        "np.split(arr, 3)"
      ],
      "metadata": {
        "colab": {
          "base_uri": "https://localhost:8080/"
        },
        "id": "D-NjYT0taH-c",
        "outputId": "28fe70ce-511b-4a8c-ffd1-02d58edddabd"
      },
      "execution_count": null,
      "outputs": [
        {
          "output_type": "execute_result",
          "data": {
            "text/plain": [
              "[array([3, 5]), array([7, 9]), array([11, 13])]"
            ]
          },
          "metadata": {},
          "execution_count": 36
        }
      ]
    },
    {
      "cell_type": "code",
      "source": [
        "arr = np.arange(2, 27, 3).reshape(3, 3)\n",
        "arr"
      ],
      "metadata": {
        "colab": {
          "base_uri": "https://localhost:8080/"
        },
        "id": "VOPJP1DZaLD8",
        "outputId": "650cb5cf-7dc8-474a-e5ff-918b8b4e8991"
      },
      "execution_count": null,
      "outputs": [
        {
          "output_type": "execute_result",
          "data": {
            "text/plain": [
              "array([[ 2,  5,  8],\n",
              "       [11, 14, 17],\n",
              "       [20, 23, 26]])"
            ]
          },
          "metadata": {},
          "execution_count": 40
        }
      ]
    },
    {
      "cell_type": "code",
      "source": [
        "# splitting of 2D array\n",
        "np.split(arr, 3)"
      ],
      "metadata": {
        "colab": {
          "base_uri": "https://localhost:8080/"
        },
        "id": "8l-WtyWraSdP",
        "outputId": "32420764-efd0-4d3d-ac14-49cafa8b908d"
      },
      "execution_count": null,
      "outputs": [
        {
          "output_type": "execute_result",
          "data": {
            "text/plain": [
              "[array([[2, 5, 8]]), array([[11, 14, 17]]), array([[20, 23, 26]])]"
            ]
          },
          "metadata": {},
          "execution_count": 64
        }
      ]
    },
    {
      "cell_type": "code",
      "source": [
        "np.split(arr, 3, axis=0) # 3 splits in 3 rows"
      ],
      "metadata": {
        "colab": {
          "base_uri": "https://localhost:8080/"
        },
        "id": "tiX87uorgDZ3",
        "outputId": "229726ad-eb17-40ca-ae6d-149ec2c01b99"
      },
      "execution_count": null,
      "outputs": [
        {
          "output_type": "execute_result",
          "data": {
            "text/plain": [
              "[array([[2, 5, 8]]), array([[11, 14, 17]]), array([[20, 23, 26]])]"
            ]
          },
          "metadata": {},
          "execution_count": 63
        }
      ]
    },
    {
      "cell_type": "code",
      "source": [
        "np.split(arr, 3, axis=1) # 3 splits in 3 columns"
      ],
      "metadata": {
        "colab": {
          "base_uri": "https://localhost:8080/"
        },
        "id": "rg138FbLgGQ1",
        "outputId": "9a29793c-35bf-405e-8d67-6f074ab2f455"
      },
      "execution_count": null,
      "outputs": [
        {
          "output_type": "execute_result",
          "data": {
            "text/plain": [
              "[array([[ 2],\n",
              "        [11],\n",
              "        [20]]),\n",
              " array([[ 5],\n",
              "        [14],\n",
              "        [23]]),\n",
              " array([[ 8],\n",
              "        [17],\n",
              "        [26]])]"
            ]
          },
          "metadata": {},
          "execution_count": 65
        }
      ]
    },
    {
      "cell_type": "code",
      "source": [
        "np.split(arr, 1) # 1 is default value"
      ],
      "metadata": {
        "colab": {
          "base_uri": "https://localhost:8080/"
        },
        "id": "j4j1_YTFab9s",
        "outputId": "76a53f59-11de-4ad6-bb18-103415fd5bed"
      },
      "execution_count": null,
      "outputs": [
        {
          "output_type": "execute_result",
          "data": {
            "text/plain": [
              "[array([[ 2,  5,  8],\n",
              "        [11, 14, 17],\n",
              "        [20, 23, 26]])]"
            ]
          },
          "metadata": {},
          "execution_count": 43
        }
      ]
    },
    {
      "cell_type": "code",
      "source": [
        "# hsplit on 1D array\n",
        "arr = np.arange(3, 20, 2)\n",
        "arr"
      ],
      "metadata": {
        "colab": {
          "base_uri": "https://localhost:8080/"
        },
        "id": "ipq91UdJaecv",
        "outputId": "1e27db42-35de-4c02-ffd5-181948dbb369"
      },
      "execution_count": null,
      "outputs": [
        {
          "output_type": "execute_result",
          "data": {
            "text/plain": [
              "array([ 3,  5,  7,  9, 11, 13, 15, 17, 19])"
            ]
          },
          "metadata": {},
          "execution_count": 69
        }
      ]
    },
    {
      "cell_type": "code",
      "source": [
        "np.hsplit(arr, 3) # vsplit is not valid for 1D array"
      ],
      "metadata": {
        "colab": {
          "base_uri": "https://localhost:8080/"
        },
        "id": "fI5Cy4NndPZj",
        "outputId": "b48f2afb-f3e6-41fc-fd85-1ba19d47e061"
      },
      "execution_count": null,
      "outputs": [
        {
          "output_type": "execute_result",
          "data": {
            "text/plain": [
              "[array([3, 5, 7]), array([ 9, 11, 13]), array([15, 17, 19])]"
            ]
          },
          "metadata": {},
          "execution_count": 70
        }
      ]
    },
    {
      "cell_type": "code",
      "source": [
        "# hsplit\n",
        "arr = np.arange(3, 26, 2).reshape(3, 4)\n",
        "arr"
      ],
      "metadata": {
        "colab": {
          "base_uri": "https://localhost:8080/"
        },
        "id": "23fPHM_QdPWP",
        "outputId": "161b7efb-bf11-40d8-bcf5-11e63fc6d818"
      },
      "execution_count": null,
      "outputs": [
        {
          "output_type": "execute_result",
          "data": {
            "text/plain": [
              "array([[ 3,  5,  7,  9],\n",
              "       [11, 13, 15, 17],\n",
              "       [19, 21, 23, 25]])"
            ]
          },
          "metadata": {},
          "execution_count": 80
        }
      ]
    },
    {
      "cell_type": "code",
      "source": [
        "np.hsplit(arr, 1)"
      ],
      "metadata": {
        "colab": {
          "base_uri": "https://localhost:8080/"
        },
        "id": "JxhTwyYcdPUF",
        "outputId": "fc1ab525-c0f5-401d-c51b-fe6ec41d4d48"
      },
      "execution_count": null,
      "outputs": [
        {
          "output_type": "execute_result",
          "data": {
            "text/plain": [
              "[array([[ 3,  5,  7,  9],\n",
              "        [11, 13, 15, 17],\n",
              "        [19, 21, 23, 25]])]"
            ]
          },
          "metadata": {},
          "execution_count": 81
        }
      ]
    },
    {
      "cell_type": "code",
      "source": [
        "np.hsplit(arr, 2)"
      ],
      "metadata": {
        "colab": {
          "base_uri": "https://localhost:8080/"
        },
        "id": "dLMZIaFOdPRt",
        "outputId": "31ad3e8f-7770-4473-cf67-1e55dd96b8f8"
      },
      "execution_count": null,
      "outputs": [
        {
          "output_type": "execute_result",
          "data": {
            "text/plain": [
              "[array([[ 3,  5],\n",
              "        [11, 13],\n",
              "        [19, 21]]),\n",
              " array([[ 7,  9],\n",
              "        [15, 17],\n",
              "        [23, 25]])]"
            ]
          },
          "metadata": {},
          "execution_count": 83
        }
      ]
    },
    {
      "cell_type": "code",
      "source": [
        "np.hsplit(arr, 4)"
      ],
      "metadata": {
        "colab": {
          "base_uri": "https://localhost:8080/"
        },
        "id": "nH7HfAyddPPl",
        "outputId": "d192f08f-2ff1-426a-a514-2fc2f955fdde"
      },
      "execution_count": null,
      "outputs": [
        {
          "output_type": "execute_result",
          "data": {
            "text/plain": [
              "[array([[ 3],\n",
              "        [11],\n",
              "        [19]]),\n",
              " array([[ 5],\n",
              "        [13],\n",
              "        [21]]),\n",
              " array([[ 7],\n",
              "        [15],\n",
              "        [23]]),\n",
              " array([[ 9],\n",
              "        [17],\n",
              "        [25]])]"
            ]
          },
          "metadata": {},
          "execution_count": 85
        }
      ]
    },
    {
      "cell_type": "code",
      "source": [
        "np.vsplit(arr, 1) # same as hsplit 1"
      ],
      "metadata": {
        "colab": {
          "base_uri": "https://localhost:8080/"
        },
        "id": "V4QqRPcMdPNU",
        "outputId": "f1b3ca60-c526-49b5-8bd8-d4d6c8741463"
      },
      "execution_count": null,
      "outputs": [
        {
          "output_type": "execute_result",
          "data": {
            "text/plain": [
              "[array([[ 3,  5,  7,  9],\n",
              "        [11, 13, 15, 17],\n",
              "        [19, 21, 23, 25]])]"
            ]
          },
          "metadata": {},
          "execution_count": 87
        }
      ]
    },
    {
      "cell_type": "code",
      "source": [
        "np.vsplit(arr, 3)"
      ],
      "metadata": {
        "colab": {
          "base_uri": "https://localhost:8080/"
        },
        "id": "d6YkuSIYdPLH",
        "outputId": "2777ac56-6dcd-4650-c92a-b66be9a1fe8f"
      },
      "execution_count": null,
      "outputs": [
        {
          "output_type": "execute_result",
          "data": {
            "text/plain": [
              "[array([[3, 5, 7, 9]]), array([[11, 13, 15, 17]]), array([[19, 21, 23, 25]])]"
            ]
          },
          "metadata": {},
          "execution_count": 89
        }
      ]
    },
    {
      "cell_type": "code",
      "source": [
        "# sorting of an array\n",
        "arr = np.random.randint(1, 15, 10)\n",
        "arr"
      ],
      "metadata": {
        "colab": {
          "base_uri": "https://localhost:8080/"
        },
        "id": "vd8vaD1idPI8",
        "outputId": "e5471cbe-b601-4a38-bb5f-d655a6201419"
      },
      "execution_count": null,
      "outputs": [
        {
          "output_type": "execute_result",
          "data": {
            "text/plain": [
              "array([ 5,  3, 13, 14,  7,  4,  8,  9, 14,  4])"
            ]
          },
          "metadata": {},
          "execution_count": 94
        }
      ]
    },
    {
      "cell_type": "code",
      "source": [
        "np.sort(arr)"
      ],
      "metadata": {
        "colab": {
          "base_uri": "https://localhost:8080/"
        },
        "id": "2RqYWwPMdPG-",
        "outputId": "fbd0c60d-9962-4f11-ff40-544d6375f2a0"
      },
      "execution_count": null,
      "outputs": [
        {
          "output_type": "execute_result",
          "data": {
            "text/plain": [
              "array([ 3,  4,  4,  5,  7,  8,  9, 13, 14, 14])"
            ]
          },
          "metadata": {},
          "execution_count": 97
        }
      ]
    },
    {
      "cell_type": "code",
      "source": [
        "arr = np.random.randint(1, 10, (3, 4))\n",
        "arr"
      ],
      "metadata": {
        "colab": {
          "base_uri": "https://localhost:8080/"
        },
        "id": "GNoPnF48dPE0",
        "outputId": "bd63bb90-6036-4088-9cb1-3f6b5ea53881"
      },
      "execution_count": null,
      "outputs": [
        {
          "output_type": "execute_result",
          "data": {
            "text/plain": [
              "array([[1, 9, 3, 4],\n",
              "       [6, 1, 2, 8],\n",
              "       [4, 7, 1, 5]])"
            ]
          },
          "metadata": {},
          "execution_count": 104
        }
      ]
    },
    {
      "cell_type": "code",
      "source": [
        "np.sort(arr) # axis=1"
      ],
      "metadata": {
        "colab": {
          "base_uri": "https://localhost:8080/"
        },
        "id": "Yb1ABS9vi92L",
        "outputId": "be0849b9-f20c-4cc3-9ca8-e87c6925ab86"
      },
      "execution_count": null,
      "outputs": [
        {
          "output_type": "execute_result",
          "data": {
            "text/plain": [
              "array([[1, 3, 4, 9],\n",
              "       [1, 2, 6, 8],\n",
              "       [1, 4, 5, 7]])"
            ]
          },
          "metadata": {},
          "execution_count": 105
        }
      ]
    },
    {
      "cell_type": "code",
      "source": [
        "np.sort(arr, axis=0)"
      ],
      "metadata": {
        "colab": {
          "base_uri": "https://localhost:8080/"
        },
        "id": "NkQS5TgWi9zg",
        "outputId": "c84d22ab-2982-4abe-a61c-fd0c4ab078c4"
      },
      "execution_count": null,
      "outputs": [
        {
          "output_type": "execute_result",
          "data": {
            "text/plain": [
              "array([[1, 1, 1, 4],\n",
              "       [4, 7, 2, 5],\n",
              "       [6, 9, 3, 8]])"
            ]
          },
          "metadata": {},
          "execution_count": 108
        }
      ]
    },
    {
      "cell_type": "code",
      "source": [
        "# unique elements\n",
        "arr = np.random.randint(1, 9, 10)\n",
        "arr"
      ],
      "metadata": {
        "colab": {
          "base_uri": "https://localhost:8080/"
        },
        "id": "eNA-Ms_ui9xV",
        "outputId": "a6c9ba47-9fdc-48db-e0e0-074b2a80c383"
      },
      "execution_count": null,
      "outputs": [
        {
          "output_type": "execute_result",
          "data": {
            "text/plain": [
              "array([1, 6, 6, 6, 5, 5, 3, 8, 6, 5])"
            ]
          },
          "metadata": {},
          "execution_count": 109
        }
      ]
    },
    {
      "cell_type": "code",
      "source": [
        "np.unique(arr)"
      ],
      "metadata": {
        "colab": {
          "base_uri": "https://localhost:8080/"
        },
        "id": "o-bUWEgKi9u1",
        "outputId": "0ba0214d-da22-4f43-9a34-c879a973bc58"
      },
      "execution_count": null,
      "outputs": [
        {
          "output_type": "execute_result",
          "data": {
            "text/plain": [
              "array([1, 3, 5, 6, 8])"
            ]
          },
          "metadata": {},
          "execution_count": 111
        }
      ]
    },
    {
      "cell_type": "code",
      "source": [
        "np.unique(arr, return_counts=True) # counts of each unique elements"
      ],
      "metadata": {
        "colab": {
          "base_uri": "https://localhost:8080/"
        },
        "id": "K35zIBlai9si",
        "outputId": "a67b1a55-9e32-45d0-96ea-e231400859dc"
      },
      "execution_count": null,
      "outputs": [
        {
          "output_type": "execute_result",
          "data": {
            "text/plain": [
              "(array([1, 3, 5, 6, 8]), array([1, 1, 3, 4, 1]))"
            ]
          },
          "metadata": {},
          "execution_count": 112
        }
      ]
    },
    {
      "cell_type": "code",
      "source": [
        "np.unique(arr, return_index=True) # indexes of first appearance of each unique elements"
      ],
      "metadata": {
        "colab": {
          "base_uri": "https://localhost:8080/"
        },
        "id": "HK2_9etsi9qd",
        "outputId": "59e9c3f7-17c1-4269-f13e-ef881e97a81c"
      },
      "execution_count": null,
      "outputs": [
        {
          "output_type": "execute_result",
          "data": {
            "text/plain": [
              "(array([1, 3, 5, 6, 8]), array([0, 6, 4, 1, 7]))"
            ]
          },
          "metadata": {},
          "execution_count": 113
        }
      ]
    },
    {
      "cell_type": "code",
      "source": [
        "np.unique(arr, return_inverse=True) # indexes of elements in ascending order"
      ],
      "metadata": {
        "colab": {
          "base_uri": "https://localhost:8080/"
        },
        "id": "j58bxwHLi9oD",
        "outputId": "5ee1664b-a4ff-4fc9-e61e-95f5ed3d9eff"
      },
      "execution_count": null,
      "outputs": [
        {
          "output_type": "execute_result",
          "data": {
            "text/plain": [
              "(array([1, 3, 5, 6, 8]), array([0, 3, 3, 3, 2, 2, 1, 4, 3, 2]))"
            ]
          },
          "metadata": {},
          "execution_count": 116
        }
      ]
    },
    {
      "cell_type": "code",
      "source": [
        "# set operations\n",
        "a = np.random.randint(1, 10, 6)\n",
        "b = np.random.randint(3, 9, 5)"
      ],
      "metadata": {
        "id": "6VkNtFqxmG3s"
      },
      "execution_count": 2,
      "outputs": []
    },
    {
      "cell_type": "code",
      "source": [
        "a"
      ],
      "metadata": {
        "id": "6memVFcFmG0P",
        "colab": {
          "base_uri": "https://localhost:8080/"
        },
        "outputId": "3bb9168b-0d6a-4e13-8554-8cc826e0286f"
      },
      "execution_count": 3,
      "outputs": [
        {
          "output_type": "execute_result",
          "data": {
            "text/plain": [
              "array([5, 4, 1, 8, 7, 4])"
            ]
          },
          "metadata": {},
          "execution_count": 3
        }
      ]
    },
    {
      "cell_type": "code",
      "source": [
        "b"
      ],
      "metadata": {
        "id": "KSMNRdbvmGxt",
        "colab": {
          "base_uri": "https://localhost:8080/"
        },
        "outputId": "bc60a5cf-fb46-4dac-b26a-7d1cb30bab19"
      },
      "execution_count": 4,
      "outputs": [
        {
          "output_type": "execute_result",
          "data": {
            "text/plain": [
              "array([7, 3, 7, 8, 5])"
            ]
          },
          "metadata": {},
          "execution_count": 4
        }
      ]
    },
    {
      "cell_type": "code",
      "source": [
        "np.intersect1d(a, b)"
      ],
      "metadata": {
        "id": "-Z3e7WaomGke",
        "colab": {
          "base_uri": "https://localhost:8080/"
        },
        "outputId": "43b51f3f-2e32-4a13-872e-9f9f5194d3e6"
      },
      "execution_count": 5,
      "outputs": [
        {
          "output_type": "execute_result",
          "data": {
            "text/plain": [
              "array([5, 7, 8])"
            ]
          },
          "metadata": {},
          "execution_count": 5
        }
      ]
    },
    {
      "cell_type": "code",
      "source": [
        "np.union1d(a, b)"
      ],
      "metadata": {
        "id": "wjHr8JyImGg5",
        "colab": {
          "base_uri": "https://localhost:8080/"
        },
        "outputId": "76719cb0-a74d-465b-bbe8-ffa710d8236b"
      },
      "execution_count": 6,
      "outputs": [
        {
          "output_type": "execute_result",
          "data": {
            "text/plain": [
              "array([1, 3, 4, 5, 7, 8])"
            ]
          },
          "metadata": {},
          "execution_count": 6
        }
      ]
    },
    {
      "cell_type": "code",
      "source": [
        "np.setdiff1d(a, b)"
      ],
      "metadata": {
        "colab": {
          "base_uri": "https://localhost:8080/"
        },
        "id": "yWwHLywsaT17",
        "outputId": "7b596a52-c38d-49f0-8bd7-324561882581"
      },
      "execution_count": 7,
      "outputs": [
        {
          "output_type": "execute_result",
          "data": {
            "text/plain": [
              "array([1, 4])"
            ]
          },
          "metadata": {},
          "execution_count": 7
        }
      ]
    },
    {
      "cell_type": "code",
      "source": [
        "np.setdiff1d(b, a)"
      ],
      "metadata": {
        "colab": {
          "base_uri": "https://localhost:8080/"
        },
        "id": "JPOkGT3_aTyd",
        "outputId": "41e39051-912c-4aa0-a975-1175b4cbf7bf"
      },
      "execution_count": 8,
      "outputs": [
        {
          "output_type": "execute_result",
          "data": {
            "text/plain": [
              "array([3])"
            ]
          },
          "metadata": {},
          "execution_count": 8
        }
      ]
    },
    {
      "cell_type": "markdown",
      "source": [
        "### Practice Questions - Set 3"
      ],
      "metadata": {
        "id": "a0Tlcv3paiWo"
      }
    },
    {
      "cell_type": "code",
      "source": [
        "# Q. Stack two arrays horizontally and vertically.\n",
        "a = np.array([3, 5, 1, 4])\n",
        "b = np.array([1, 9, 5, 2])"
      ],
      "metadata": {
        "id": "INEwC3biaTu_"
      },
      "execution_count": 9,
      "outputs": []
    },
    {
      "cell_type": "code",
      "source": [
        "np.hstack((a, b))"
      ],
      "metadata": {
        "colab": {
          "base_uri": "https://localhost:8080/"
        },
        "id": "Uw-mqSsVaTrk",
        "outputId": "f40ff857-5e31-4cb8-cf27-d2c1ce485c77"
      },
      "execution_count": 11,
      "outputs": [
        {
          "output_type": "execute_result",
          "data": {
            "text/plain": [
              "array([3, 5, 1, 4, 1, 9, 5, 2])"
            ]
          },
          "metadata": {},
          "execution_count": 11
        }
      ]
    },
    {
      "cell_type": "code",
      "source": [
        "np.vstack((b, a))"
      ],
      "metadata": {
        "id": "XIzF2JNYmGdj",
        "colab": {
          "base_uri": "https://localhost:8080/"
        },
        "outputId": "5457d50a-78b0-4426-9407-a24b8a9a0f79"
      },
      "execution_count": 12,
      "outputs": [
        {
          "output_type": "execute_result",
          "data": {
            "text/plain": [
              "array([[1, 9, 5, 2],\n",
              "       [3, 5, 1, 4]])"
            ]
          },
          "metadata": {},
          "execution_count": 12
        }
      ]
    },
    {
      "cell_type": "code",
      "source": [
        "# Q. Sort a 2D array along the rows.\n",
        "arr = np.array([[5, 2, 7, 6], [7, 2, 4, 3], [1, 5, 8, 3]])\n",
        "arr"
      ],
      "metadata": {
        "colab": {
          "base_uri": "https://localhost:8080/"
        },
        "id": "Exvj4QB-a-CB",
        "outputId": "c2a00eb8-0cbb-4303-c0af-e0d0798b5ee6"
      },
      "execution_count": 20,
      "outputs": [
        {
          "output_type": "execute_result",
          "data": {
            "text/plain": [
              "array([[5, 2, 7, 6],\n",
              "       [7, 2, 4, 3],\n",
              "       [1, 5, 8, 3]])"
            ]
          },
          "metadata": {},
          "execution_count": 20
        }
      ]
    },
    {
      "cell_type": "code",
      "source": [
        "np.sort(arr) # along rows"
      ],
      "metadata": {
        "colab": {
          "base_uri": "https://localhost:8080/"
        },
        "id": "js250UHoa9_o",
        "outputId": "bec061ba-4d73-4403-beff-daf5202cc4cb"
      },
      "execution_count": 21,
      "outputs": [
        {
          "output_type": "execute_result",
          "data": {
            "text/plain": [
              "array([[2, 5, 6, 7],\n",
              "       [2, 3, 4, 7],\n",
              "       [1, 3, 5, 8]])"
            ]
          },
          "metadata": {},
          "execution_count": 21
        }
      ]
    },
    {
      "cell_type": "code",
      "source": [
        "np.sort(arr, axis=0) # along columns"
      ],
      "metadata": {
        "colab": {
          "base_uri": "https://localhost:8080/"
        },
        "id": "n4h_cELoa99I",
        "outputId": "a4df6357-1834-4526-ab9f-b9674264f6e7"
      },
      "execution_count": 22,
      "outputs": [
        {
          "output_type": "execute_result",
          "data": {
            "text/plain": [
              "array([[1, 2, 4, 3],\n",
              "       [5, 2, 7, 3],\n",
              "       [7, 5, 8, 6]])"
            ]
          },
          "metadata": {},
          "execution_count": 22
        }
      ]
    },
    {
      "cell_type": "code",
      "source": [
        "# Q. Find the unique elements in an array and their counts.\n",
        "arr = np.random.randint(4, 15, 10)\n",
        "arr"
      ],
      "metadata": {
        "colab": {
          "base_uri": "https://localhost:8080/"
        },
        "id": "aCHggQtna96g",
        "outputId": "d33f0239-7e90-4c3e-e561-a0bc9a8ccd78"
      },
      "execution_count": 26,
      "outputs": [
        {
          "output_type": "execute_result",
          "data": {
            "text/plain": [
              "array([11, 13,  9, 14, 14,  6, 11,  9, 11, 14])"
            ]
          },
          "metadata": {},
          "execution_count": 26
        }
      ]
    },
    {
      "cell_type": "code",
      "source": [
        "np.unique(arr)"
      ],
      "metadata": {
        "colab": {
          "base_uri": "https://localhost:8080/"
        },
        "id": "R99CbaZ5a93p",
        "outputId": "c3138475-e2bb-4dea-c7d5-167b0f78f5ff"
      },
      "execution_count": 27,
      "outputs": [
        {
          "output_type": "execute_result",
          "data": {
            "text/plain": [
              "array([ 6,  9, 11, 13, 14])"
            ]
          },
          "metadata": {},
          "execution_count": 27
        }
      ]
    },
    {
      "cell_type": "code",
      "source": [
        "np.unique(arr, return_counts=True)"
      ],
      "metadata": {
        "colab": {
          "base_uri": "https://localhost:8080/"
        },
        "id": "ruEa3ncba91C",
        "outputId": "2cf7984e-cd33-4872-d5bc-5c7d5f5828ea"
      },
      "execution_count": 28,
      "outputs": [
        {
          "output_type": "execute_result",
          "data": {
            "text/plain": [
              "(array([ 6,  9, 11, 13, 14]), array([1, 2, 3, 1, 3]))"
            ]
          },
          "metadata": {},
          "execution_count": 28
        }
      ]
    },
    {
      "cell_type": "code",
      "source": [
        "# Q. Given two arrays, find the elements common to both.\n",
        "a = np.random.randint(5, 10, 8)\n",
        "b = np.random.randint(1, 8, 10)"
      ],
      "metadata": {
        "id": "24rIVHVaa9yn"
      },
      "execution_count": 29,
      "outputs": []
    },
    {
      "cell_type": "code",
      "source": [
        "a"
      ],
      "metadata": {
        "colab": {
          "base_uri": "https://localhost:8080/"
        },
        "id": "b0PsdgALa9wW",
        "outputId": "38037db7-7e08-4fb3-99d4-d35f312417bc"
      },
      "execution_count": 30,
      "outputs": [
        {
          "output_type": "execute_result",
          "data": {
            "text/plain": [
              "array([8, 7, 5, 7, 7, 9, 7, 9])"
            ]
          },
          "metadata": {},
          "execution_count": 30
        }
      ]
    },
    {
      "cell_type": "code",
      "source": [
        "b"
      ],
      "metadata": {
        "colab": {
          "base_uri": "https://localhost:8080/"
        },
        "id": "CQMCJO7pa9s4",
        "outputId": "ccb986cc-6954-4737-9966-6ce5b5eef582"
      },
      "execution_count": 31,
      "outputs": [
        {
          "output_type": "execute_result",
          "data": {
            "text/plain": [
              "array([5, 1, 1, 5, 6, 6, 7, 7, 5, 4])"
            ]
          },
          "metadata": {},
          "execution_count": 31
        }
      ]
    },
    {
      "cell_type": "code",
      "source": [
        "np.intersect1d(a, b)"
      ],
      "metadata": {
        "colab": {
          "base_uri": "https://localhost:8080/"
        },
        "id": "HTh0KIFea9qL",
        "outputId": "faa2edd1-9696-4efd-86e1-57cef5315aff"
      },
      "execution_count": 32,
      "outputs": [
        {
          "output_type": "execute_result",
          "data": {
            "text/plain": [
              "array([5, 7])"
            ]
          },
          "metadata": {},
          "execution_count": 32
        }
      ]
    },
    {
      "cell_type": "markdown",
      "source": [
        "### Statistics"
      ],
      "metadata": {
        "id": "ht96B4-Cd4wG"
      }
    },
    {
      "cell_type": "code",
      "source": [
        "# Normal Distribution\n",
        "arr = np.random.normal(loc=0, scale=1, size=5) # mean=0, std=1\n",
        "arr"
      ],
      "metadata": {
        "colab": {
          "base_uri": "https://localhost:8080/"
        },
        "id": "c5yx-2zmcseV",
        "outputId": "a605d69d-4558-42ec-fb98-b9eb199b22ee"
      },
      "execution_count": 38,
      "outputs": [
        {
          "output_type": "execute_result",
          "data": {
            "text/plain": [
              "array([-0.20472009,  1.18651188, -1.54273073,  0.5644497 , -0.8334243 ])"
            ]
          },
          "metadata": {},
          "execution_count": 38
        }
      ]
    },
    {
      "cell_type": "code",
      "source": [
        "arr = np.random.normal(loc=1, scale=3, size=(3, 4))\n",
        "arr"
      ],
      "metadata": {
        "colab": {
          "base_uri": "https://localhost:8080/"
        },
        "id": "_xrmNoz9eOBi",
        "outputId": "3bdad528-a227-4a77-e4e0-4ccc01caafff"
      },
      "execution_count": 47,
      "outputs": [
        {
          "output_type": "execute_result",
          "data": {
            "text/plain": [
              "array([[ 1.19079651,  0.11420846, -0.66434   ,  1.31143847],\n",
              "       [-1.33269724,  3.28367745, -0.81119805,  2.88541798],\n",
              "       [-0.51501423, -3.31540098,  3.47388056,  2.90104468]])"
            ]
          },
          "metadata": {},
          "execution_count": 47
        }
      ]
    },
    {
      "cell_type": "code",
      "source": [
        "# Uniform Distribution\n",
        "arr = np.random.uniform(low=0, high=5, size=4)\n",
        "arr"
      ],
      "metadata": {
        "colab": {
          "base_uri": "https://localhost:8080/"
        },
        "id": "aXytqqXDcsa9",
        "outputId": "49b91606-6301-4bbd-a59e-786db883dec4"
      },
      "execution_count": 48,
      "outputs": [
        {
          "output_type": "execute_result",
          "data": {
            "text/plain": [
              "array([4.07593175, 2.38998399, 1.90690744, 2.47481624])"
            ]
          },
          "metadata": {},
          "execution_count": 48
        }
      ]
    },
    {
      "cell_type": "code",
      "source": [
        "arr = np.random.uniform(low=5, high=10, size=(3, 3))\n",
        "arr"
      ],
      "metadata": {
        "colab": {
          "base_uri": "https://localhost:8080/"
        },
        "id": "W1Os5T42csXo",
        "outputId": "c03f2f1d-f0c5-42ef-892d-109313df8194"
      },
      "execution_count": 49,
      "outputs": [
        {
          "output_type": "execute_result",
          "data": {
            "text/plain": [
              "array([[7.41129118, 6.19825652, 8.28534036],\n",
              "       [8.72918016, 6.94006096, 9.3080767 ],\n",
              "       [6.83437367, 7.02891341, 6.47663745]])"
            ]
          },
          "metadata": {},
          "execution_count": 49
        }
      ]
    },
    {
      "cell_type": "code",
      "source": [
        "# mean, median, std, var\n",
        "arr = np.random.randint(1, 5, 10)\n",
        "arr"
      ],
      "metadata": {
        "colab": {
          "base_uri": "https://localhost:8080/"
        },
        "id": "5ltJ3AqvcsVE",
        "outputId": "b3de05bc-ada8-4c2d-df53-93e9c9a5acac"
      },
      "execution_count": 55,
      "outputs": [
        {
          "output_type": "execute_result",
          "data": {
            "text/plain": [
              "array([2, 1, 3, 1, 4, 2, 2, 1, 4, 2])"
            ]
          },
          "metadata": {},
          "execution_count": 55
        }
      ]
    },
    {
      "cell_type": "code",
      "source": [
        "np.mean(arr)"
      ],
      "metadata": {
        "colab": {
          "base_uri": "https://localhost:8080/"
        },
        "id": "mOlglZTkcsSl",
        "outputId": "688a6d9d-863a-4ae0-9f47-855401823cbf"
      },
      "execution_count": 56,
      "outputs": [
        {
          "output_type": "execute_result",
          "data": {
            "text/plain": [
              "np.float64(2.2)"
            ]
          },
          "metadata": {},
          "execution_count": 56
        }
      ]
    },
    {
      "cell_type": "code",
      "source": [
        "np.median(arr)"
      ],
      "metadata": {
        "colab": {
          "base_uri": "https://localhost:8080/"
        },
        "id": "IST8JtzYcsQN",
        "outputId": "2c7da706-a30b-4b6f-e871-bbf88c818e45"
      },
      "execution_count": 57,
      "outputs": [
        {
          "output_type": "execute_result",
          "data": {
            "text/plain": [
              "np.float64(2.0)"
            ]
          },
          "metadata": {},
          "execution_count": 57
        }
      ]
    },
    {
      "cell_type": "code",
      "source": [
        "np.std(arr)"
      ],
      "metadata": {
        "colab": {
          "base_uri": "https://localhost:8080/"
        },
        "id": "828nA62fcsN-",
        "outputId": "7b9dce23-413f-482e-93e6-c7625cc7f464"
      },
      "execution_count": 58,
      "outputs": [
        {
          "output_type": "execute_result",
          "data": {
            "text/plain": [
              "np.float64(1.0770329614269007)"
            ]
          },
          "metadata": {},
          "execution_count": 58
        }
      ]
    },
    {
      "cell_type": "code",
      "source": [
        "np.var(arr)"
      ],
      "metadata": {
        "colab": {
          "base_uri": "https://localhost:8080/"
        },
        "id": "774Ap1DOcsLJ",
        "outputId": "8ae9560e-9fce-4c94-8de9-46b8755b2712"
      },
      "execution_count": 59,
      "outputs": [
        {
          "output_type": "execute_result",
          "data": {
            "text/plain": [
              "np.float64(1.16)"
            ]
          },
          "metadata": {},
          "execution_count": 59
        }
      ]
    },
    {
      "cell_type": "code",
      "source": [
        "# correlation coefficient\n",
        "a = np.array([2, 5, 8, 10])\n",
        "b = np.array([1, 4, 5, 6])\n",
        "np.corrcoef(a, b)"
      ],
      "metadata": {
        "colab": {
          "base_uri": "https://localhost:8080/"
        },
        "id": "6yj0GTjxcsId",
        "outputId": "4949820a-cc6d-4177-d0d7-4417a17c14a2"
      },
      "execution_count": 62,
      "outputs": [
        {
          "output_type": "execute_result",
          "data": {
            "text/plain": [
              "array([[1.        , 0.96990677],\n",
              "       [0.96990677, 1.        ]])"
            ]
          },
          "metadata": {},
          "execution_count": 62
        }
      ]
    },
    {
      "cell_type": "code",
      "source": [
        "a = np.array([[3, 5, 6], [2, 4, 5]])\n",
        "b = np.array([[2, 3, 7], [1, 7, 3]])"
      ],
      "metadata": {
        "id": "bDXES8LlcsEP"
      },
      "execution_count": 66,
      "outputs": []
    },
    {
      "cell_type": "code",
      "source": [
        "a"
      ],
      "metadata": {
        "colab": {
          "base_uri": "https://localhost:8080/"
        },
        "id": "fGkIgvplcr-W",
        "outputId": "bd66d813-ea23-4837-d100-6ba1449e83c0"
      },
      "execution_count": 67,
      "outputs": [
        {
          "output_type": "execute_result",
          "data": {
            "text/plain": [
              "array([[3, 5, 6],\n",
              "       [2, 4, 5]])"
            ]
          },
          "metadata": {},
          "execution_count": 67
        }
      ]
    },
    {
      "cell_type": "code",
      "source": [
        "b"
      ],
      "metadata": {
        "colab": {
          "base_uri": "https://localhost:8080/"
        },
        "id": "Qb-yuNbsgV9N",
        "outputId": "3b746921-930f-4795-86ed-d3b190fc4ee1"
      },
      "execution_count": 68,
      "outputs": [
        {
          "output_type": "execute_result",
          "data": {
            "text/plain": [
              "array([[2, 3, 7],\n",
              "       [1, 7, 3]])"
            ]
          },
          "metadata": {},
          "execution_count": 68
        }
      ]
    },
    {
      "cell_type": "code",
      "source": [
        "np.corrcoef(a, b)"
      ],
      "metadata": {
        "colab": {
          "base_uri": "https://localhost:8080/"
        },
        "id": "NDNhAm_Pa9ny",
        "outputId": "d7ddac54-d1c3-4e59-f569-e542d0f995fd"
      },
      "execution_count": 69,
      "outputs": [
        {
          "output_type": "execute_result",
          "data": {
            "text/plain": [
              "array([[1.       , 1.       , 0.8660254, 0.5      ],\n",
              "       [1.       , 1.       , 0.8660254, 0.5      ],\n",
              "       [0.8660254, 0.8660254, 1.       , 0.       ],\n",
              "       [0.5      , 0.5      , 0.       , 1.       ]])"
            ]
          },
          "metadata": {},
          "execution_count": 69
        }
      ]
    },
    {
      "cell_type": "markdown",
      "source": [
        "### Practice Question - Set 4"
      ],
      "metadata": {
        "id": "Ed0ytgISgtls"
      }
    },
    {
      "cell_type": "code",
      "source": [
        "# Q. Generate a 5x5 array of random numbers between 0 and 1.\n",
        "np.random.rand(5, 5)"
      ],
      "metadata": {
        "colab": {
          "base_uri": "https://localhost:8080/"
        },
        "id": "U-lWySD-gsfQ",
        "outputId": "a7e76b3a-7846-4888-fb59-f23cf7fad741"
      },
      "execution_count": 75,
      "outputs": [
        {
          "output_type": "execute_result",
          "data": {
            "text/plain": [
              "array([[0.85751828, 0.02758542, 0.27157651, 0.08749186, 0.13812734],\n",
              "       [0.68599667, 0.93880691, 0.60172146, 0.06622806, 0.37023434],\n",
              "       [0.66066593, 0.90527992, 0.33896586, 0.79703202, 0.69883391],\n",
              "       [0.77899597, 0.84647151, 0.03402184, 0.50424281, 0.8588003 ],\n",
              "       [0.78719017, 0.46287127, 0.60235898, 0.75009364, 0.71761055]])"
            ]
          },
          "metadata": {},
          "execution_count": 75
        }
      ]
    },
    {
      "cell_type": "code",
      "source": [
        "# Q. Set a seed and generate the same random array twice.\n",
        "np.random.seed(18)\n",
        "np.random.rand()"
      ],
      "metadata": {
        "colab": {
          "base_uri": "https://localhost:8080/"
        },
        "id": "1Y7i7Y2Ba9lU",
        "outputId": "71000b7a-db61-4330-c068-7e11219cd837"
      },
      "execution_count": 85,
      "outputs": [
        {
          "output_type": "execute_result",
          "data": {
            "text/plain": [
              "0.6503742417395917"
            ]
          },
          "metadata": {},
          "execution_count": 85
        }
      ]
    },
    {
      "cell_type": "code",
      "source": [
        "np.random.seed(18)\n",
        "np.random.rand()"
      ],
      "metadata": {
        "colab": {
          "base_uri": "https://localhost:8080/"
        },
        "id": "30ScehPCa9i5",
        "outputId": "d4c403d2-3b42-4c20-a02a-f61ac3665505"
      },
      "execution_count": 86,
      "outputs": [
        {
          "output_type": "execute_result",
          "data": {
            "text/plain": [
              "0.6503742417395917"
            ]
          },
          "metadata": {},
          "execution_count": 86
        }
      ]
    },
    {
      "cell_type": "code",
      "source": [
        "# Q. Generate an array of 1000 random numbers and calculate mean and standard deviation.\n",
        "arr = np.random.randint(1, 100, 1000)\n",
        "arr"
      ],
      "metadata": {
        "colab": {
          "base_uri": "https://localhost:8080/"
        },
        "id": "l_eQh-Xka9gf",
        "outputId": "1430f9d5-cea6-4875-8740-955bd1e2a0e5"
      },
      "execution_count": 90,
      "outputs": [
        {
          "output_type": "execute_result",
          "data": {
            "text/plain": [
              "array([95,  6, 15, 63,  1, 35, 81, 93, 37, 84, 42, 52, 96, 82, 78, 37, 27,\n",
              "        2, 57, 13, 89, 78, 23, 41, 86,  2, 81, 49, 27, 84, 40, 91, 52, 21,\n",
              "       99,  8, 50, 95, 80, 28, 37, 54, 49,  7, 33, 95, 68, 87, 13, 49, 63,\n",
              "       31, 89, 18, 83, 47, 91, 79, 79, 93, 78, 23, 17, 51, 77, 41, 19, 49,\n",
              "       10, 97, 32, 17,  4, 79, 50, 58, 82, 47, 15, 36, 24, 18,  4, 22, 43,\n",
              "       74, 34,  4, 95,  2, 76, 32, 24, 94, 45, 15, 90, 39, 86, 11, 76, 40,\n",
              "       94, 18, 17, 64,  5, 63, 54, 42, 40, 76, 84, 96, 31, 88,  7, 77, 66,\n",
              "       80, 14, 44, 53, 67, 23, 82, 60,  7, 81, 28, 76, 50, 99, 51, 21, 66,\n",
              "       86, 87, 37, 39, 29, 72, 49, 58, 18,  4, 51, 76, 61,  5, 26, 37, 98,\n",
              "       21, 49, 76, 92, 92, 20, 17, 30, 80, 30, 20, 55, 76,  8, 54, 82, 27,\n",
              "       15, 63, 52, 42, 65, 25, 71, 21, 43, 74, 52, 15, 14,  6, 13, 15, 64,\n",
              "       56, 70, 51, 50, 29, 51, 56, 69, 48,  5, 29, 74, 27,  9, 75,  3, 32,\n",
              "       76, 67, 15, 48, 57, 92, 81, 80, 96, 77, 66, 74, 66, 59, 12, 89, 38,\n",
              "       75,  6, 67, 61, 13, 71, 99, 60, 85, 72, 39,  9, 85, 47, 47, 66,  3,\n",
              "       74, 58, 93,  6, 18, 27, 70,  6, 92, 59, 62, 89, 56, 93, 10, 54, 52,\n",
              "       15, 52, 31, 69, 89,  5, 65,  5, 36, 97, 57, 52,  1, 65,  7, 17, 85,\n",
              "       50, 42,  6, 90, 20, 57, 65, 10,  1, 46, 76, 18, 40, 14, 31, 59, 76,\n",
              "       84, 39, 97, 13, 59, 79,  6, 71, 89, 36, 55,  7, 77, 71, 91, 86, 61,\n",
              "       30, 73, 90, 73, 82, 10, 82, 74, 40, 23, 73,  2, 17, 92, 70, 27, 67,\n",
              "       98, 37, 92, 34, 47, 56, 88, 85, 33, 45, 69, 32, 18, 33, 75, 94, 93,\n",
              "       10, 51, 24, 32, 48, 74, 68, 20, 94, 79,  8, 24, 23, 81, 97, 79, 44,\n",
              "       90, 21, 33,  2, 95, 91, 77,  5, 63, 35, 20, 52, 65, 94, 43, 72, 72,\n",
              "       29, 60, 48, 54, 16, 90, 80, 57, 12,  4, 20, 44, 75,  1, 43, 50, 41,\n",
              "       96, 46, 53, 23, 57, 95,  4, 95, 35, 56, 44, 12, 35, 17, 16, 41, 47,\n",
              "       72, 58, 51, 15, 85, 19,  9,  2, 61, 74, 95, 16, 19, 11, 11, 30, 77,\n",
              "       25, 66, 90, 80, 38, 69, 75, 36, 97, 10, 27, 67, 61, 92, 76, 75, 76,\n",
              "       44,  9, 24, 44, 82, 62, 31, 33, 24, 17, 75, 65, 89, 70, 87,  2, 14,\n",
              "       90, 72, 35, 49, 56, 33, 35, 74, 63, 71, 54, 29, 27, 37, 77, 89, 61,\n",
              "        2,  5, 15, 72, 23, 54, 93, 72, 93,  5, 38, 78,  4, 43, 95,  6, 79,\n",
              "       53, 39, 43, 12, 23, 81, 63, 55, 49, 36,  8, 89, 73,  3, 10, 51, 77,\n",
              "       51, 30,  1, 72, 29, 42, 56, 53, 89, 96,  7, 63, 34, 92, 36, 77, 92,\n",
              "       72, 69, 25, 23, 57, 46, 32, 40, 38, 74, 60, 82,  9, 81, 96, 10, 49,\n",
              "       92, 42, 64, 36,  8, 36, 78, 46, 94, 18, 38, 63, 44, 45, 90, 94, 71,\n",
              "        5, 85, 73, 56, 51, 19, 41, 51, 40, 61, 47, 74, 87, 22, 21, 77, 22,\n",
              "       16, 83, 93, 30, 66, 57, 63, 67, 92, 43, 83, 83, 34, 24, 37, 77, 24,\n",
              "       45, 63, 54, 92,  5, 59, 27, 47, 30, 89, 22, 73, 98, 58, 10, 82, 48,\n",
              "       94, 86, 98, 59, 89, 86, 39, 60, 61, 22,  9, 92, 39, 75, 61, 54, 50,\n",
              "       42,  2, 96, 39, 43, 14, 25, 28, 28, 25, 53, 44, 92, 84, 48, 27, 32,\n",
              "       87, 42, 34, 23,  1, 53, 25, 81, 12,  3, 79, 50, 33, 15, 49, 89, 42,\n",
              "       26, 83, 83, 94, 75, 82, 86, 86, 88, 12,  2, 44, 19, 58, 16, 21, 54,\n",
              "       90, 43, 38, 12, 60, 46, 63, 49, 85, 88, 76, 77, 23, 85, 50, 56, 43,\n",
              "       29, 19, 24, 98, 97, 46, 15, 28, 69, 51, 38, 42, 54, 85, 96, 89, 56,\n",
              "        2, 25, 16, 59, 63, 72, 65,  6, 62, 69, 38, 63, 14, 77, 33, 98, 95,\n",
              "        4,  4,  8, 85, 65, 83, 85, 55, 49, 51, 57, 97, 65, 52, 71, 85,  9,\n",
              "       87, 91, 66, 53, 72, 14, 90, 92, 31, 49, 95, 15, 11, 47, 61, 26, 40,\n",
              "       66, 95, 59, 83, 43, 48, 74,  2, 40, 89, 43, 97,  9, 65, 27, 81, 10,\n",
              "       34, 39, 99, 58, 35, 57, 29, 69, 28, 45, 83, 38, 14,  9, 14, 56, 54,\n",
              "       40, 46, 29, 42, 99, 24, 71, 10, 77, 66, 54, 80, 95, 40, 90, 62, 82,\n",
              "       94, 88, 75, 89, 97, 50,  4, 70, 14,  8, 99, 38, 82, 51, 25, 17, 65,\n",
              "       63, 24, 49, 84, 18, 36, 39,  4,  3, 16, 73, 99, 20, 10,  7, 49, 53,\n",
              "       42, 88, 30, 28, 36, 71, 48, 15,  8, 98, 55, 63, 88, 19,  6, 61, 39,\n",
              "       22, 61, 82,  5, 23, 69, 20, 11, 59, 93,  2, 10, 96, 78,  2, 38, 16,\n",
              "       55, 28, 66, 64, 30, 49, 78, 64, 78, 37, 13,  5,  1, 83, 35, 35,  3,\n",
              "       64, 18, 23, 93, 12, 76, 22, 81, 50, 38, 44, 67, 15, 99, 78, 57, 50,\n",
              "       13, 25, 16, 83, 85, 37, 33, 84, 49, 49, 88, 35, 77, 44, 90, 30, 25,\n",
              "       81, 55, 76, 87, 64, 15, 13,  4, 61, 88, 93, 95, 12, 25, 72, 73, 13,\n",
              "       23, 58, 71, 88, 40, 63, 46, 97, 99, 21, 53, 78,  9, 30,  8, 42, 39,\n",
              "       44,  1, 16, 17,  9, 88,  2,  4, 18, 96, 92, 13, 57, 90, 81, 86, 25,\n",
              "       45, 48, 30,  6, 32, 16, 24, 92, 93, 95, 92, 48, 72, 78])"
            ]
          },
          "metadata": {},
          "execution_count": 90
        }
      ]
    },
    {
      "cell_type": "code",
      "source": [
        "np.mean(arr)"
      ],
      "metadata": {
        "colab": {
          "base_uri": "https://localhost:8080/"
        },
        "id": "jAs2BG69a9eK",
        "outputId": "3da9f547-03f6-4202-f202-9e5593538e6e"
      },
      "execution_count": 91,
      "outputs": [
        {
          "output_type": "execute_result",
          "data": {
            "text/plain": [
              "np.float64(50.742)"
            ]
          },
          "metadata": {},
          "execution_count": 91
        }
      ]
    },
    {
      "cell_type": "code",
      "source": [
        "np.std(arr)"
      ],
      "metadata": {
        "colab": {
          "base_uri": "https://localhost:8080/"
        },
        "id": "Fz6xyh60a9b6",
        "outputId": "3e489398-72a0-476a-98bf-2205f68d9216"
      },
      "execution_count": 92,
      "outputs": [
        {
          "output_type": "execute_result",
          "data": {
            "text/plain": [
              "np.float64(28.87610493124029)"
            ]
          },
          "metadata": {},
          "execution_count": 92
        }
      ]
    },
    {
      "cell_type": "code",
      "source": [
        "# Q. Create two arrays of 100 elements from normal distributions (mean=0, std=1)\n",
        "# and compute their correlation coefficient.\n",
        "a = np.random.normal(loc=0, scale=1, size=100)\n",
        "b = np.random.normal(loc=0, scale=1, size=100)"
      ],
      "metadata": {
        "id": "TNTVmIh1a9ZF"
      },
      "execution_count": 97,
      "outputs": []
    },
    {
      "cell_type": "code",
      "source": [
        "np.corrcoef(a, b)"
      ],
      "metadata": {
        "colab": {
          "base_uri": "https://localhost:8080/"
        },
        "id": "g7q-C7L9ijHs",
        "outputId": "04f601ef-ef8e-4a37-9da6-f3a33464d020"
      },
      "execution_count": 98,
      "outputs": [
        {
          "output_type": "execute_result",
          "data": {
            "text/plain": [
              "array([[1.        , 0.23677887],\n",
              "       [0.23677887, 1.        ]])"
            ]
          },
          "metadata": {},
          "execution_count": 98
        }
      ]
    },
    {
      "cell_type": "markdown",
      "source": [
        "### Linear Algebra"
      ],
      "metadata": {
        "id": "QdHJJIXci9Tn"
      }
    },
    {
      "cell_type": "code",
      "source": [
        "a = np.array([[2, 5], [1, 4]])\n",
        "a"
      ],
      "metadata": {
        "colab": {
          "base_uri": "https://localhost:8080/"
        },
        "id": "iQak4YgGijEQ",
        "outputId": "18e474bf-8dfe-4e26-93d3-20e753de69a9"
      },
      "execution_count": 103,
      "outputs": [
        {
          "output_type": "execute_result",
          "data": {
            "text/plain": [
              "array([[2, 5],\n",
              "       [1, 4]])"
            ]
          },
          "metadata": {},
          "execution_count": 103
        }
      ]
    },
    {
      "cell_type": "code",
      "source": [
        "b = np.array([[6, 5], [2, 9]])\n",
        "b"
      ],
      "metadata": {
        "colab": {
          "base_uri": "https://localhost:8080/"
        },
        "id": "b30BdgvgijBW",
        "outputId": "68b4500d-c396-4690-ecf0-ca9dc27e67f7"
      },
      "execution_count": 104,
      "outputs": [
        {
          "output_type": "execute_result",
          "data": {
            "text/plain": [
              "array([[6, 5],\n",
              "       [2, 9]])"
            ]
          },
          "metadata": {},
          "execution_count": 104
        }
      ]
    },
    {
      "cell_type": "code",
      "source": [
        "# element wise operation\n",
        "a * b"
      ],
      "metadata": {
        "colab": {
          "base_uri": "https://localhost:8080/"
        },
        "id": "U0kHbZbpii-r",
        "outputId": "f3b3929f-e8a9-41e1-814d-b52540a73f2d"
      },
      "execution_count": 105,
      "outputs": [
        {
          "output_type": "execute_result",
          "data": {
            "text/plain": [
              "array([[12, 25],\n",
              "       [ 2, 36]])"
            ]
          },
          "metadata": {},
          "execution_count": 105
        }
      ]
    },
    {
      "cell_type": "code",
      "source": [
        "# dot product\n",
        "np.dot(a, b)"
      ],
      "metadata": {
        "colab": {
          "base_uri": "https://localhost:8080/"
        },
        "id": "tTmzxiDxii8O",
        "outputId": "af3c66f1-e268-4e17-a88c-bcece3ff435a"
      },
      "execution_count": 106,
      "outputs": [
        {
          "output_type": "execute_result",
          "data": {
            "text/plain": [
              "array([[22, 55],\n",
              "       [14, 41]])"
            ]
          },
          "metadata": {},
          "execution_count": 106
        }
      ]
    },
    {
      "cell_type": "code",
      "source": [
        "a @ b"
      ],
      "metadata": {
        "colab": {
          "base_uri": "https://localhost:8080/"
        },
        "id": "MM2cHrrOii56",
        "outputId": "5f14ae6e-feff-495f-b293-2b52186050e7"
      },
      "execution_count": 107,
      "outputs": [
        {
          "output_type": "execute_result",
          "data": {
            "text/plain": [
              "array([[22, 55],\n",
              "       [14, 41]])"
            ]
          },
          "metadata": {},
          "execution_count": 107
        }
      ]
    },
    {
      "cell_type": "code",
      "source": [
        "np.dot(b, a)"
      ],
      "metadata": {
        "colab": {
          "base_uri": "https://localhost:8080/"
        },
        "id": "nH8WTaDhj0bH",
        "outputId": "2c3077aa-7b16-49ee-ea54-48db27dfaa9b"
      },
      "execution_count": 109,
      "outputs": [
        {
          "output_type": "execute_result",
          "data": {
            "text/plain": [
              "array([[17, 50],\n",
              "       [13, 46]])"
            ]
          },
          "metadata": {},
          "execution_count": 109
        }
      ]
    },
    {
      "cell_type": "code",
      "source": [
        "b @ a"
      ],
      "metadata": {
        "colab": {
          "base_uri": "https://localhost:8080/"
        },
        "id": "IsT0lBexii3P",
        "outputId": "6e80d045-ba50-4991-eab2-22c372005607"
      },
      "execution_count": 108,
      "outputs": [
        {
          "output_type": "execute_result",
          "data": {
            "text/plain": [
              "array([[17, 50],\n",
              "       [13, 46]])"
            ]
          },
          "metadata": {},
          "execution_count": 108
        }
      ]
    },
    {
      "cell_type": "code",
      "source": [
        "# identity matrix\n",
        "np.eye(3)"
      ],
      "metadata": {
        "colab": {
          "base_uri": "https://localhost:8080/"
        },
        "id": "xBWUFYtBj3If",
        "outputId": "87e59469-87b8-4556-b3ec-89f435ea510d"
      },
      "execution_count": 110,
      "outputs": [
        {
          "output_type": "execute_result",
          "data": {
            "text/plain": [
              "array([[1., 0., 0.],\n",
              "       [0., 1., 0.],\n",
              "       [0., 0., 1.]])"
            ]
          },
          "metadata": {},
          "execution_count": 110
        }
      ]
    },
    {
      "cell_type": "code",
      "source": [
        "np.eye(2, 5)"
      ],
      "metadata": {
        "colab": {
          "base_uri": "https://localhost:8080/"
        },
        "id": "XjTzS-kcj3F0",
        "outputId": "35015626-71ed-4ef6-97d2-c6add8a99733"
      },
      "execution_count": 111,
      "outputs": [
        {
          "output_type": "execute_result",
          "data": {
            "text/plain": [
              "array([[1., 0., 0., 0., 0.],\n",
              "       [0., 1., 0., 0., 0.]])"
            ]
          },
          "metadata": {},
          "execution_count": 111
        }
      ]
    },
    {
      "cell_type": "code",
      "source": [
        "# determinant of a matrix\n",
        "a = np.array([[1, 4], [5, 4]])\n",
        "np.linalg.det(a)"
      ],
      "metadata": {
        "colab": {
          "base_uri": "https://localhost:8080/"
        },
        "id": "gji8NVfTj3C4",
        "outputId": "09d6689b-2e72-4e09-e452-f8cf1aedb860"
      },
      "execution_count": 114,
      "outputs": [
        {
          "output_type": "execute_result",
          "data": {
            "text/plain": [
              "np.float64(-15.999999999999998)"
            ]
          },
          "metadata": {},
          "execution_count": 114
        }
      ]
    },
    {
      "cell_type": "code",
      "source": [
        "# inverse of a matrix\n",
        "np.linalg.inv(a)"
      ],
      "metadata": {
        "colab": {
          "base_uri": "https://localhost:8080/"
        },
        "id": "DOQCdtSYj3AR",
        "outputId": "54139c87-b69a-4a2b-ca60-77686005d3a2"
      },
      "execution_count": 115,
      "outputs": [
        {
          "output_type": "execute_result",
          "data": {
            "text/plain": [
              "array([[-0.25  ,  0.25  ],\n",
              "       [ 0.3125, -0.0625]])"
            ]
          },
          "metadata": {},
          "execution_count": 115
        }
      ]
    },
    {
      "cell_type": "code",
      "source": [
        "# eigen values and eigen vectors\n",
        "value, vector = np.linalg.eig(a)"
      ],
      "metadata": {
        "id": "rVyAez5Hj29l"
      },
      "execution_count": 118,
      "outputs": []
    },
    {
      "cell_type": "code",
      "source": [
        "value"
      ],
      "metadata": {
        "colab": {
          "base_uri": "https://localhost:8080/"
        },
        "id": "XhORoFA-j26v",
        "outputId": "07ce9679-dbbb-424f-f103-4cbbe1acb2a6"
      },
      "execution_count": 119,
      "outputs": [
        {
          "output_type": "execute_result",
          "data": {
            "text/plain": [
              "array([-2.21699057,  7.21699057])"
            ]
          },
          "metadata": {},
          "execution_count": 119
        }
      ]
    },
    {
      "cell_type": "code",
      "source": [
        "vector"
      ],
      "metadata": {
        "colab": {
          "base_uri": "https://localhost:8080/"
        },
        "id": "j8oXOYGwj24D",
        "outputId": "5300d9de-4ccf-4090-98f8-1c8c22aeb3a1"
      },
      "execution_count": 120,
      "outputs": [
        {
          "output_type": "execute_result",
          "data": {
            "text/plain": [
              "array([[-0.77925158, -0.54107946],\n",
              "       [ 0.62671124, -0.84097147]])"
            ]
          },
          "metadata": {},
          "execution_count": 120
        }
      ]
    },
    {
      "cell_type": "code",
      "source": [
        "# solving linear equations (Ax = b)\n",
        "# 2x + y = 8, x + 3y = 13\n",
        "A = np.array([[2, 1], [1, 3]])\n",
        "b = np.array([8, 13])\n",
        "np.linalg.solve(A, b)"
      ],
      "metadata": {
        "colab": {
          "base_uri": "https://localhost:8080/"
        },
        "id": "bruaCfaFj21N",
        "outputId": "c67b9352-5934-478b-9f4f-a8295c29db34"
      },
      "execution_count": 123,
      "outputs": [
        {
          "output_type": "execute_result",
          "data": {
            "text/plain": [
              "array([2.2, 3.6])"
            ]
          },
          "metadata": {},
          "execution_count": 123
        }
      ]
    },
    {
      "cell_type": "code",
      "source": [
        "# 3x + y = 9, x + 2y = 8\n",
        "A = np.array([[3, 1], [1, 2]])\n",
        "b = np.array([9, 8])\n",
        "np.linalg.solve(A, b)"
      ],
      "metadata": {
        "colab": {
          "base_uri": "https://localhost:8080/"
        },
        "id": "4uPSBzhcmRCQ",
        "outputId": "e4c51d15-cff7-4bd8-d544-8d606a68d669"
      },
      "execution_count": 124,
      "outputs": [
        {
          "output_type": "execute_result",
          "data": {
            "text/plain": [
              "array([2., 3.])"
            ]
          },
          "metadata": {},
          "execution_count": 124
        }
      ]
    },
    {
      "cell_type": "code",
      "source": [
        "# x + y + z = 6, 2x + 5y + z = -4, 2x + 3y + 8z = 27\n",
        "A = np.array([[1, 1, 1], [2, 5, 1], [2, 3, 8]])\n",
        "b = np.array([6, -4, 27])\n",
        "np.linalg.solve(A, b)"
      ],
      "metadata": {
        "colab": {
          "base_uri": "https://localhost:8080/"
        },
        "id": "iznxzuU7mhFd",
        "outputId": "4168935b-569f-4143-9499-b6f08f18f3df"
      },
      "execution_count": 126,
      "outputs": [
        {
          "output_type": "execute_result",
          "data": {
            "text/plain": [
              "array([ 7.05263158, -4.26315789,  3.21052632])"
            ]
          },
          "metadata": {},
          "execution_count": 126
        }
      ]
    },
    {
      "cell_type": "markdown",
      "source": [
        "### Practice Quesions - Set 5"
      ],
      "metadata": {
        "id": "BdLcuyeYlxsJ"
      }
    },
    {
      "cell_type": "code",
      "source": [
        "# Q. Multiply two matrices (2×2 or 3×3)\n",
        "a = np.array([[3, 2, 5], [6, 1, 7]])\n",
        "a"
      ],
      "metadata": {
        "colab": {
          "base_uri": "https://localhost:8080/"
        },
        "id": "DydxCI6lj2xM",
        "outputId": "0c940041-1cfd-4eba-c71a-5fd68183f371"
      },
      "execution_count": 127,
      "outputs": [
        {
          "output_type": "execute_result",
          "data": {
            "text/plain": [
              "array([[3, 2, 5],\n",
              "       [6, 1, 7]])"
            ]
          },
          "metadata": {},
          "execution_count": 127
        }
      ]
    },
    {
      "cell_type": "code",
      "source": [
        "b = np.array([[4, 3], [1, 5], [7, 5]])\n",
        "b"
      ],
      "metadata": {
        "colab": {
          "base_uri": "https://localhost:8080/"
        },
        "id": "-8l9QaTej2uY",
        "outputId": "127b0ed5-0a22-42ac-eac0-c0086b929cef"
      },
      "execution_count": 128,
      "outputs": [
        {
          "output_type": "execute_result",
          "data": {
            "text/plain": [
              "array([[4, 3],\n",
              "       [1, 5],\n",
              "       [7, 5]])"
            ]
          },
          "metadata": {},
          "execution_count": 128
        }
      ]
    },
    {
      "cell_type": "code",
      "source": [
        "np.dot(a, b)"
      ],
      "metadata": {
        "colab": {
          "base_uri": "https://localhost:8080/"
        },
        "id": "qeGBrnaxj2r3",
        "outputId": "2a38ba17-c1f1-4a1c-b3a3-c856d47ad4fb"
      },
      "execution_count": 130,
      "outputs": [
        {
          "output_type": "execute_result",
          "data": {
            "text/plain": [
              "array([[49, 44],\n",
              "       [74, 58]])"
            ]
          },
          "metadata": {},
          "execution_count": 130
        }
      ]
    },
    {
      "cell_type": "code",
      "source": [
        "a @ b"
      ],
      "metadata": {
        "colab": {
          "base_uri": "https://localhost:8080/"
        },
        "id": "e04YXA9tj2pB",
        "outputId": "3558ac1f-6ce6-48c2-df81-3b71532a9310"
      },
      "execution_count": 131,
      "outputs": [
        {
          "output_type": "execute_result",
          "data": {
            "text/plain": [
              "array([[49, 44],\n",
              "       [74, 58]])"
            ]
          },
          "metadata": {},
          "execution_count": 131
        }
      ]
    },
    {
      "cell_type": "code",
      "source": [
        "# Q. Find the determinant and inverse of a 2×2 matrix.\n",
        "arr = np.random.randint(1, 5, size=(2, 2))\n",
        "arr"
      ],
      "metadata": {
        "colab": {
          "base_uri": "https://localhost:8080/"
        },
        "id": "BcuQic8Aj2lP",
        "outputId": "73d3bc0b-6d88-4d56-a4ce-57e9574dd4e2"
      },
      "execution_count": 135,
      "outputs": [
        {
          "output_type": "execute_result",
          "data": {
            "text/plain": [
              "array([[4, 2],\n",
              "       [3, 3]])"
            ]
          },
          "metadata": {},
          "execution_count": 135
        }
      ]
    },
    {
      "cell_type": "code",
      "source": [
        "np.linalg.det(arr)"
      ],
      "metadata": {
        "colab": {
          "base_uri": "https://localhost:8080/"
        },
        "id": "kD2-jKhznyJz",
        "outputId": "12f31e1e-1eec-4475-c6b5-28fe3e4fb2ea"
      },
      "execution_count": 136,
      "outputs": [
        {
          "output_type": "execute_result",
          "data": {
            "text/plain": [
              "np.float64(6.0)"
            ]
          },
          "metadata": {},
          "execution_count": 136
        }
      ]
    },
    {
      "cell_type": "code",
      "source": [
        "np.linalg.inv(arr)"
      ],
      "metadata": {
        "colab": {
          "base_uri": "https://localhost:8080/"
        },
        "id": "UX4KFrACnyGz",
        "outputId": "7cc17589-2ea4-4604-b259-876527e27960"
      },
      "execution_count": 137,
      "outputs": [
        {
          "output_type": "execute_result",
          "data": {
            "text/plain": [
              "array([[ 0.5       , -0.33333333],\n",
              "       [-0.5       ,  0.66666667]])"
            ]
          },
          "metadata": {},
          "execution_count": 137
        }
      ]
    },
    {
      "cell_type": "code",
      "source": [
        "# Q. Find the eigenvalues and eigenvectors of a 2×2 matrix.\n",
        "values, vectors = np.linalg.eig(arr)"
      ],
      "metadata": {
        "id": "2bf2DCqfnyEB"
      },
      "execution_count": 138,
      "outputs": []
    },
    {
      "cell_type": "code",
      "source": [
        "values"
      ],
      "metadata": {
        "colab": {
          "base_uri": "https://localhost:8080/"
        },
        "id": "1q1e5zqdnyBa",
        "outputId": "38743c27-383f-47bc-9634-71f6ce0acf6b"
      },
      "execution_count": 139,
      "outputs": [
        {
          "output_type": "execute_result",
          "data": {
            "text/plain": [
              "array([6., 1.])"
            ]
          },
          "metadata": {},
          "execution_count": 139
        }
      ]
    },
    {
      "cell_type": "code",
      "source": [
        "vectors"
      ],
      "metadata": {
        "colab": {
          "base_uri": "https://localhost:8080/"
        },
        "id": "5sN21q-Lnx-i",
        "outputId": "b1ce5d47-7815-4711-fe3f-42a211909726"
      },
      "execution_count": 140,
      "outputs": [
        {
          "output_type": "execute_result",
          "data": {
            "text/plain": [
              "array([[ 0.70710678, -0.5547002 ],\n",
              "       [ 0.70710678,  0.83205029]])"
            ]
          },
          "metadata": {},
          "execution_count": 140
        }
      ]
    },
    {
      "cell_type": "code",
      "source": [
        "# Q. Solve the following system of equations using np.linalg.solve: 2x + y = 8, x + 3y = 13\n",
        "A = np.array([[2, 1], [1, 3]])\n",
        "b = np.array([8, 13])\n",
        "np.linalg.solve(A, b)"
      ],
      "metadata": {
        "colab": {
          "base_uri": "https://localhost:8080/"
        },
        "id": "on40v0f5ojlo",
        "outputId": "7ff041d1-d6e6-4f36-bde6-1748c85959ad"
      },
      "execution_count": 141,
      "outputs": [
        {
          "output_type": "execute_result",
          "data": {
            "text/plain": [
              "array([2.2, 3.6])"
            ]
          },
          "metadata": {},
          "execution_count": 141
        }
      ]
    }
  ]
}