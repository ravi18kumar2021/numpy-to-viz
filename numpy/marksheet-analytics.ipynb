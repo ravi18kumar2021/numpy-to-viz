{
  "nbformat": 4,
  "nbformat_minor": 0,
  "metadata": {
    "colab": {
      "provenance": [],
      "authorship_tag": "ABX9TyN2bFk4+J6L0rfm/DcBhFdz",
      "include_colab_link": true
    },
    "kernelspec": {
      "name": "python3",
      "display_name": "Python 3"
    },
    "language_info": {
      "name": "python"
    }
  },
  "cells": [
    {
      "cell_type": "markdown",
      "metadata": {
        "id": "view-in-github",
        "colab_type": "text"
      },
      "source": [
        "<a href=\"https://colab.research.google.com/github/ravi18kumar2021/numpy-to-viz/blob/main/numpy/marksheet-analytics.ipynb\" target=\"_parent\"><img src=\"https://colab.research.google.com/assets/colab-badge.svg\" alt=\"Open In Colab\"/></a>"
      ]
    },
    {
      "cell_type": "markdown",
      "source": [
        "## 🎯 Goal:\n",
        "### Given a 2D NumPy array where each row represents a student and each column a subject, perform common marks analysis."
      ],
      "metadata": {
        "id": "_llxZ-qgdC2d"
      }
    },
    {
      "cell_type": "markdown",
      "source": [
        "### Concepts Used\n",
        "\n",
        "- Array slicing\n",
        "- axis parameter in NumPy functions\n",
        "- np.sum, np.mean, np.argmax, np.min, etc."
      ],
      "metadata": {
        "id": "ijOe0Bcxd0f7"
      }
    },
    {
      "cell_type": "code",
      "source": [
        "import numpy as np"
      ],
      "metadata": {
        "id": "E779hT-CepkD"
      },
      "execution_count": 46,
      "outputs": []
    },
    {
      "cell_type": "code",
      "execution_count": 47,
      "metadata": {
        "colab": {
          "base_uri": "https://localhost:8080/"
        },
        "id": "uWYDlv0Ec_-m",
        "outputId": "2a74d179-93c6-4723-9f95-dfba2f096a24"
      },
      "outputs": [
        {
          "output_type": "execute_result",
          "data": {
            "text/plain": [
              "array([[56, 87, 65, 62],\n",
              "       [69, 89, 92, 58],\n",
              "       [70, 70, 52, 90],\n",
              "       [52, 78, 74, 51],\n",
              "       [70, 50, 92, 81]])"
            ]
          },
          "metadata": {},
          "execution_count": 47
        }
      ],
      "source": [
        "# 5 students, 4 subjects\n",
        "marks = np.random.randint(40, 101, size=(5, 4))\n",
        "marks"
      ]
    },
    {
      "cell_type": "code",
      "source": [
        "# Q. Calculate total marks per student\n",
        "for index, mark in enumerate(marks):\n",
        "  print(f'Total Marks of Student {index + 1} : {np.sum(mark)}')"
      ],
      "metadata": {
        "colab": {
          "base_uri": "https://localhost:8080/"
        },
        "id": "1EB8ojDcewgk",
        "outputId": "cf5f5771-5602-489a-83e9-245d7b20bd08"
      },
      "execution_count": 48,
      "outputs": [
        {
          "output_type": "stream",
          "name": "stdout",
          "text": [
            "Total Marks of Student 1 : 270\n",
            "Total Marks of Student 2 : 308\n",
            "Total Marks of Student 3 : 282\n",
            "Total Marks of Student 4 : 255\n",
            "Total Marks of Student 5 : 293\n"
          ]
        }
      ]
    },
    {
      "cell_type": "code",
      "source": [
        "np.sum(marks, axis=1) # row wise"
      ],
      "metadata": {
        "colab": {
          "base_uri": "https://localhost:8080/"
        },
        "id": "l_0XWrvgf8L8",
        "outputId": "d0a102c9-2eeb-49d9-fc0a-24acacdc25b7"
      },
      "execution_count": 49,
      "outputs": [
        {
          "output_type": "execute_result",
          "data": {
            "text/plain": [
              "array([270, 308, 282, 255, 293])"
            ]
          },
          "metadata": {},
          "execution_count": 49
        }
      ]
    },
    {
      "cell_type": "code",
      "source": [
        "# Q. Find average marks per subject\n",
        "for i in range(4):\n",
        "  print(f'Average Marks of Subject {i+1} : {np.mean(marks[:, i])}')"
      ],
      "metadata": {
        "colab": {
          "base_uri": "https://localhost:8080/"
        },
        "id": "KuPs8xJrfEtO",
        "outputId": "1ef10c5a-4881-417b-bbd9-ea8851e24b64"
      },
      "execution_count": 50,
      "outputs": [
        {
          "output_type": "stream",
          "name": "stdout",
          "text": [
            "Average Marks of Subject 1 : 63.4\n",
            "Average Marks of Subject 2 : 74.8\n",
            "Average Marks of Subject 3 : 75.0\n",
            "Average Marks of Subject 4 : 68.4\n"
          ]
        }
      ]
    },
    {
      "cell_type": "code",
      "source": [
        "np.mean(marks, axis=0)"
      ],
      "metadata": {
        "colab": {
          "base_uri": "https://localhost:8080/"
        },
        "id": "TYedqZ8Egaxe",
        "outputId": "fee48b20-81ac-4431-8e41-a02f6a63a163"
      },
      "execution_count": 51,
      "outputs": [
        {
          "output_type": "execute_result",
          "data": {
            "text/plain": [
              "array([63.4, 74.8, 75. , 68.4])"
            ]
          },
          "metadata": {},
          "execution_count": 51
        }
      ]
    },
    {
      "cell_type": "code",
      "source": [
        "# Q. Identify top and bottom scoring students\n",
        "for index, student in enumerate(np.argmax(marks, axis=0)):\n",
        "  print(f'Subject {index+1} Top Scorer : Student {student+1}')"
      ],
      "metadata": {
        "colab": {
          "base_uri": "https://localhost:8080/"
        },
        "id": "G0HoDY8olGit",
        "outputId": "203071bf-30a5-42f1-d461-455030d7d816"
      },
      "execution_count": 52,
      "outputs": [
        {
          "output_type": "stream",
          "name": "stdout",
          "text": [
            "Subject 1 Top Scorer : Student 3\n",
            "Subject 2 Top Scorer : Student 2\n",
            "Subject 3 Top Scorer : Student 2\n",
            "Subject 4 Top Scorer : Student 3\n"
          ]
        }
      ]
    },
    {
      "cell_type": "code",
      "source": [
        "for index, student in enumerate(np.argmin(marks, axis=0)):\n",
        "  print(f'Subject {index+1} Bottom Scorer : Student {student+1}')"
      ],
      "metadata": {
        "colab": {
          "base_uri": "https://localhost:8080/"
        },
        "id": "iXAtU9pMmSkH",
        "outputId": "39bdc854-3222-491f-a37a-8c45984226db"
      },
      "execution_count": 53,
      "outputs": [
        {
          "output_type": "stream",
          "name": "stdout",
          "text": [
            "Subject 1 Bottom Scorer : Student 4\n",
            "Subject 2 Bottom Scorer : Student 5\n",
            "Subject 3 Bottom Scorer : Student 3\n",
            "Subject 4 Bottom Scorer : Student 4\n"
          ]
        }
      ]
    },
    {
      "cell_type": "code",
      "source": [
        "# Q. Rank all students by total score\n",
        "for index in np.argsort(np.sum(marks, axis=1))[::-1]:\n",
        "  print(f'Marks of Student {index+1} : {np.sum(marks[index])}')"
      ],
      "metadata": {
        "colab": {
          "base_uri": "https://localhost:8080/"
        },
        "id": "UEbfqCJXmnb-",
        "outputId": "c4ee8296-1f86-49c3-a97a-289a5c2e3cd7"
      },
      "execution_count": 54,
      "outputs": [
        {
          "output_type": "stream",
          "name": "stdout",
          "text": [
            "Marks of Student 2 : 308\n",
            "Marks of Student 5 : 293\n",
            "Marks of Student 3 : 282\n",
            "Marks of Student 1 : 270\n",
            "Marks of Student 4 : 255\n"
          ]
        }
      ]
    },
    {
      "cell_type": "code",
      "source": [],
      "metadata": {
        "id": "w4lR05Jnrbx2"
      },
      "execution_count": 54,
      "outputs": []
    }
  ]
}