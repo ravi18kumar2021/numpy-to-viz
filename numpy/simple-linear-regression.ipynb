{
  "nbformat": 4,
  "nbformat_minor": 0,
  "metadata": {
    "colab": {
      "provenance": [],
      "authorship_tag": "ABX9TyMMbbM0IAoYT69zK8YKZrC5",
      "include_colab_link": true
    },
    "kernelspec": {
      "name": "python3",
      "display_name": "Python 3"
    },
    "language_info": {
      "name": "python"
    }
  },
  "cells": [
    {
      "cell_type": "markdown",
      "metadata": {
        "id": "view-in-github",
        "colab_type": "text"
      },
      "source": [
        "<a href=\"https://colab.research.google.com/github/ravi18kumar2021/numpy-to-viz/blob/main/numpy/simple-linear-regression.ipynb\" target=\"_parent\"><img src=\"https://colab.research.google.com/assets/colab-badge.svg\" alt=\"Open In Colab\"/></a>"
      ]
    },
    {
      "cell_type": "markdown",
      "source": [
        "## 🎯 Goal:\n",
        "### Fit a line y = mx + b to a dataset without using sklearn, only using NumPy formulas."
      ],
      "metadata": {
        "id": "_1X-fY-zABKx"
      }
    },
    {
      "cell_type": "markdown",
      "source": [
        "### 🧠 Things to learn\n",
        "* Line fitting using least squares\n",
        "* Working with 1D NumPy arrays\n",
        "* Implementing regression manually"
      ],
      "metadata": {
        "id": "eEDu0CYECrUF"
      }
    },
    {
      "cell_type": "markdown",
      "source": [
        "Equation of Linear regression\n",
        "\n",
        "*General Form:*\n",
        "\n",
        "$\n",
        "y = mx + b\n",
        "$\n",
        "\n",
        "where:\n",
        "- \\($y$\\) is the dependent variable (target)\n",
        "- \\($x$\\) is the independent variable (feature)\n",
        "- \\($m$\\) is the intercept\n",
        "- \\($b$\\) is the slope (coefficient)"
      ],
      "metadata": {
        "id": "3oIw1vx0C_zn"
      }
    },
    {
      "cell_type": "markdown",
      "source": [
        "### Least Square Method Formula\n",
        "\n",
        "$\\beta_1 = \\frac{n\\sum xy - \\sum x \\sum y}{n\\sum x^2 - (\\sum x)^2}$, $\\beta_0 = \\frac{\\sum y \\sum x^2 - \\sum x \\sum xy}{n\\sum x^2 - (\\sum x)^2}$"
      ],
      "metadata": {
        "id": "FjVKmyxcMqlg"
      }
    },
    {
      "cell_type": "code",
      "execution_count": 60,
      "metadata": {
        "id": "eP8ZT02L_Yav"
      },
      "outputs": [],
      "source": [
        "import numpy as np"
      ]
    },
    {
      "cell_type": "code",
      "source": [
        "x = np.array([3, 9, 5, 3])\n",
        "y = np.array([8, 6, 4, 2])"
      ],
      "metadata": {
        "id": "B-33_iOkQOoF"
      },
      "execution_count": 61,
      "outputs": []
    },
    {
      "cell_type": "code",
      "source": [
        "sum_x = np.sum(x)\n",
        "sum_y = np.sum(y)"
      ],
      "metadata": {
        "id": "cluwFOp_RQ97"
      },
      "execution_count": 62,
      "outputs": []
    },
    {
      "cell_type": "code",
      "source": [
        "sum_x2 = np.sum(np.pow(x, 2))\n",
        "sum_xy = np.sum(x*y)"
      ],
      "metadata": {
        "id": "A9KESMWmRWPB"
      },
      "execution_count": 63,
      "outputs": []
    },
    {
      "cell_type": "code",
      "source": [
        "n = len(x)"
      ],
      "metadata": {
        "id": "6FluspwsRq4H"
      },
      "execution_count": 64,
      "outputs": []
    },
    {
      "cell_type": "code",
      "source": [
        "# finding slope m\n",
        "m_num = n * sum_xy - sum_x * sum_y\n",
        "m_den = n * sum_x2 - sum_x**2"
      ],
      "metadata": {
        "id": "WitiyQg6RszF"
      },
      "execution_count": 65,
      "outputs": []
    },
    {
      "cell_type": "code",
      "source": [
        "m = m_num / m_den"
      ],
      "metadata": {
        "id": "7XcCV92nSOYG"
      },
      "execution_count": 66,
      "outputs": []
    },
    {
      "cell_type": "code",
      "source": [
        "m"
      ],
      "metadata": {
        "colab": {
          "base_uri": "https://localhost:8080/"
        },
        "id": "UBGw-4eeSRPz",
        "outputId": "07df0352-f7f4-4120-8dfd-94feaeacc81c"
      },
      "execution_count": 67,
      "outputs": [
        {
          "output_type": "execute_result",
          "data": {
            "text/plain": [
              "np.float64(0.16666666666666666)"
            ]
          },
          "metadata": {},
          "execution_count": 67
        }
      ]
    },
    {
      "cell_type": "code",
      "source": [
        "# finding intercept b\n",
        "b = (sum_y - m * sum_x) / n\n",
        "b"
      ],
      "metadata": {
        "colab": {
          "base_uri": "https://localhost:8080/"
        },
        "id": "97VsKu3USR3h",
        "outputId": "3d078c42-9f07-43da-9be1-10f40236c058"
      },
      "execution_count": 68,
      "outputs": [
        {
          "output_type": "execute_result",
          "data": {
            "text/plain": [
              "np.float64(4.166666666666667)"
            ]
          },
          "metadata": {},
          "execution_count": 68
        }
      ]
    },
    {
      "cell_type": "code",
      "source": [
        "# equation in general form\n",
        "print(f'y = {m:.3f}x + {b:.3f}')"
      ],
      "metadata": {
        "colab": {
          "base_uri": "https://localhost:8080/"
        },
        "id": "21PRSVycSk5m",
        "outputId": "c3cfbfd6-367e-4818-ba50-0a9145c51f4f"
      },
      "execution_count": 69,
      "outputs": [
        {
          "output_type": "stream",
          "name": "stdout",
          "text": [
            "y = 0.167x + 4.167\n"
          ]
        }
      ]
    },
    {
      "cell_type": "code",
      "source": [
        "y_pred = m * x + b\n",
        "y_pred"
      ],
      "metadata": {
        "colab": {
          "base_uri": "https://localhost:8080/"
        },
        "id": "I7Xj48fpSwNm",
        "outputId": "6519dea8-6396-4c58-af9e-f608809022aa"
      },
      "execution_count": 70,
      "outputs": [
        {
          "output_type": "execute_result",
          "data": {
            "text/plain": [
              "array([4.66666667, 5.66666667, 5.        , 4.66666667])"
            ]
          },
          "metadata": {},
          "execution_count": 70
        }
      ]
    },
    {
      "cell_type": "code",
      "source": [
        "# finding mean sqaured error (mse)\n",
        "np.mean((y - y_pred)**2)"
      ],
      "metadata": {
        "colab": {
          "base_uri": "https://localhost:8080/"
        },
        "id": "OzU-RMrLTDsD",
        "outputId": "06f2750d-2e87-4b17-b396-849b1a88537b"
      },
      "execution_count": 71,
      "outputs": [
        {
          "output_type": "execute_result",
          "data": {
            "text/plain": [
              "np.float64(4.833333333333333)"
            ]
          },
          "metadata": {},
          "execution_count": 71
        }
      ]
    },
    {
      "cell_type": "code",
      "source": [
        "def simple_linear_regression(x, y):\n",
        "  sum_x = np.sum(x)\n",
        "  sum_y = np.sum(y)\n",
        "  sum_x2 = np.sum(np.pow(x, 2))\n",
        "  sum_xy = np.sum(x*y)\n",
        "  n = len(x)\n",
        "  m_num = n * sum_xy - sum_x * sum_y\n",
        "  m_den = n * sum_x2 - sum_x**2\n",
        "  m = m_num / m_den\n",
        "  b = (sum_y - m * sum_x) / n\n",
        "  return m, b"
      ],
      "metadata": {
        "id": "vchKpi2JTVoq"
      },
      "execution_count": 72,
      "outputs": []
    },
    {
      "cell_type": "code",
      "source": [
        "def display_info(m, b):\n",
        "  print(f'General Equation : y = {m:.3f}x', end=' ')\n",
        "  if b < 0:\n",
        "    print(f'- {-b:.3f}')\n",
        "  else:\n",
        "    print(f'+ {b:.3f}')\n",
        "  y_pred = m * X + b\n",
        "  print('Predicted values :', y_pred)\n",
        "  mse = np.mean((y - y_pred)**2)\n",
        "  print(f'Mean Sqaured Error : {mse:.3f}')"
      ],
      "metadata": {
        "id": "J3WsfH2fYdaR"
      },
      "execution_count": 73,
      "outputs": []
    },
    {
      "cell_type": "code",
      "source": [
        "X = np.array([1, 2, 3, 4, 5])\n",
        "y = np.array([3, 4, 2, 5, 6])"
      ],
      "metadata": {
        "id": "YUBvbZQbX3YM"
      },
      "execution_count": 74,
      "outputs": []
    },
    {
      "cell_type": "code",
      "source": [
        "m, b = simple_linear_regression(X, y)"
      ],
      "metadata": {
        "id": "g2nkOh20X50h"
      },
      "execution_count": 75,
      "outputs": []
    },
    {
      "cell_type": "code",
      "source": [
        "display_info(m, b)"
      ],
      "metadata": {
        "colab": {
          "base_uri": "https://localhost:8080/"
        },
        "id": "hBVq4PkDU4Cf",
        "outputId": "b89093b6-45ee-4298-83b2-f4615e85a83a"
      },
      "execution_count": 76,
      "outputs": [
        {
          "output_type": "stream",
          "name": "stdout",
          "text": [
            "General Equation : y = 0.700x + 1.900\n",
            "Predicted values : [2.6 3.3 4.  4.7 5.4]\n",
            "Mean Sqaured Error : 1.020\n"
          ]
        }
      ]
    },
    {
      "cell_type": "code",
      "source": [],
      "metadata": {
        "id": "L8FUuTKHYNE1"
      },
      "execution_count": 76,
      "outputs": []
    }
  ]
}