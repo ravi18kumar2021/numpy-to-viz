{
  "nbformat": 4,
  "nbformat_minor": 0,
  "metadata": {
    "colab": {
      "provenance": [],
      "authorship_tag": "ABX9TyOdj+w91hGwpZqOBswXyM8j",
      "include_colab_link": true
    },
    "kernelspec": {
      "name": "python3",
      "display_name": "Python 3"
    },
    "language_info": {
      "name": "python"
    }
  },
  "cells": [
    {
      "cell_type": "markdown",
      "metadata": {
        "id": "view-in-github",
        "colab_type": "text"
      },
      "source": [
        "<a href=\"https://colab.research.google.com/github/ravi18kumar2021/numpy-to-viz/blob/main/numpy/soduku-grid-validator.ipynb\" target=\"_parent\"><img src=\"https://colab.research.google.com/assets/colab-badge.svg\" alt=\"Open In Colab\"/></a>"
      ]
    },
    {
      "cell_type": "markdown",
      "source": [
        "### 🎯 Goal: Validate a completed 9×9 Sudoku grid.\n",
        "A valid solution must satisfy:\n",
        "- Each row contains digits 1–9 exactly once\n",
        "- Each column contains digits 1–9 exactly once\n",
        "- Each 3×3 subgrid contains digits 1–9 exactly once"
      ],
      "metadata": {
        "id": "u1k4NeLmJxXw"
      }
    },
    {
      "cell_type": "markdown",
      "source": [
        "### ✅ Things to learn\n",
        "- Advanced slicing\n",
        "- Array reshaping and traversal\n",
        "- Set operations with np.unique\n",
        "- Modular logic building"
      ],
      "metadata": {
        "id": "9oCvcffFKnps"
      }
    },
    {
      "cell_type": "code",
      "execution_count": 36,
      "metadata": {
        "id": "uVZOvxfBJnbo"
      },
      "outputs": [],
      "source": [
        "import numpy as np"
      ]
    },
    {
      "cell_type": "code",
      "source": [
        "sudoku = np.array([\n",
        "    [5, 3, 4, 6, 7, 8, 9, 1, 2],\n",
        "    [6, 7, 2, 1, 9, 5, 3, 4, 8],\n",
        "    [1, 9, 8, 3, 4, 2, 5, 6, 7],\n",
        "\n",
        "    [8, 5, 9, 7, 6, 1, 4, 2, 3],\n",
        "    [4, 2, 6, 8, 5, 3, 7, 9, 1],\n",
        "    [7, 1, 3, 9, 2, 4, 8, 5, 6],\n",
        "\n",
        "    [9, 6, 1, 5, 3, 7, 2, 8, 4],\n",
        "    [2, 8, 7, 4, 1, 9, 6, 3, 5],\n",
        "    [3, 4, 5, 2, 8, 6, 1, 7, 9]\n",
        "])"
      ],
      "metadata": {
        "id": "4LZRIpVOK1Z3"
      },
      "execution_count": 37,
      "outputs": []
    },
    {
      "cell_type": "code",
      "source": [
        "# row validation\n",
        "for row in sudoku:\n",
        "  if not sorted(row) == list(range(1, 10)):\n",
        "    print('Not Valid')\n",
        "    break\n",
        "else:\n",
        "  print('Valid')"
      ],
      "metadata": {
        "colab": {
          "base_uri": "https://localhost:8080/"
        },
        "id": "2uwrj44yK4Gj",
        "outputId": "08611d16-7602-441a-eaa3-1c7e6da72f19"
      },
      "execution_count": 38,
      "outputs": [
        {
          "output_type": "stream",
          "name": "stdout",
          "text": [
            "Valid\n"
          ]
        }
      ]
    },
    {
      "cell_type": "code",
      "source": [
        "# column validation\n",
        "for col in sudoku.T:\n",
        "  if not sorted(col) == list(range(1, 10)):\n",
        "    print('Not Valid')\n",
        "    break\n",
        "else:\n",
        "  print('Valid')"
      ],
      "metadata": {
        "colab": {
          "base_uri": "https://localhost:8080/"
        },
        "id": "VwgGpVAQPDeQ",
        "outputId": "ada0b424-1168-4813-c367-5a205f88c548"
      },
      "execution_count": 39,
      "outputs": [
        {
          "output_type": "stream",
          "name": "stdout",
          "text": [
            "Valid\n"
          ]
        }
      ]
    },
    {
      "cell_type": "code",
      "source": [
        "sudoku"
      ],
      "metadata": {
        "colab": {
          "base_uri": "https://localhost:8080/"
        },
        "id": "XJsYb0WEQc13",
        "outputId": "3b676bc3-9daa-4e5c-e780-04fcd3ce0250"
      },
      "execution_count": 40,
      "outputs": [
        {
          "output_type": "execute_result",
          "data": {
            "text/plain": [
              "array([[5, 3, 4, 6, 7, 8, 9, 1, 2],\n",
              "       [6, 7, 2, 1, 9, 5, 3, 4, 8],\n",
              "       [1, 9, 8, 3, 4, 2, 5, 6, 7],\n",
              "       [8, 5, 9, 7, 6, 1, 4, 2, 3],\n",
              "       [4, 2, 6, 8, 5, 3, 7, 9, 1],\n",
              "       [7, 1, 3, 9, 2, 4, 8, 5, 6],\n",
              "       [9, 6, 1, 5, 3, 7, 2, 8, 4],\n",
              "       [2, 8, 7, 4, 1, 9, 6, 3, 5],\n",
              "       [3, 4, 5, 2, 8, 6, 1, 7, 9]])"
            ]
          },
          "metadata": {},
          "execution_count": 40
        }
      ]
    },
    {
      "cell_type": "code",
      "source": [
        "# 3x3 grid validation\n",
        "for i in range(0, 9, 3):\n",
        "  for j in range(0, 9, 3):\n",
        "    grid = list(sudoku[i:i+3, j:j+3].flatten())\n",
        "    if not sorted(grid) == list(range(1, 10)):\n",
        "      print('Not Valid')\n",
        "      break\n",
        "    else:\n",
        "      print('Valid')"
      ],
      "metadata": {
        "colab": {
          "base_uri": "https://localhost:8080/"
        },
        "id": "mMLVE9K0P0Lw",
        "outputId": "e034b51f-869a-4353-a19a-f910a9f89143"
      },
      "execution_count": 41,
      "outputs": [
        {
          "output_type": "stream",
          "name": "stdout",
          "text": [
            "Valid\n",
            "Valid\n",
            "Valid\n",
            "Valid\n",
            "Valid\n",
            "Valid\n",
            "Valid\n",
            "Valid\n",
            "Valid\n"
          ]
        }
      ]
    },
    {
      "cell_type": "code",
      "source": [
        "def validate_sudoku(sudoku):\n",
        "  for row in sudoku:\n",
        "    if not validate_sequence(row):\n",
        "      return False\n",
        "  for col in sudoku.T:\n",
        "    if not validate_sequence(col):\n",
        "      return False\n",
        "  if not validate_grids(sudoku):\n",
        "    return False\n",
        "  return True\n",
        "\n",
        "def validate_sequence(sequence):\n",
        "  return sorted(sequence) == list(range(1, 10))\n",
        "\n",
        "def validate_grids(sudoku):\n",
        "  for i in range(0, 9, 3):\n",
        "    for j in range(0, 9, 3):\n",
        "      grid = sudoku[i:i+3, j:j+3].flatten()\n",
        "      if not validate_sequence(grid):\n",
        "        return False\n",
        "  return True\n",
        "\n",
        "print(\"Valid\" if validate_sudoku(sudoku) else \"Invalid\")"
      ],
      "metadata": {
        "colab": {
          "base_uri": "https://localhost:8080/"
        },
        "id": "6DV659R5QQQi",
        "outputId": "3336850d-b227-4f12-9c86-373a4537115f"
      },
      "execution_count": 42,
      "outputs": [
        {
          "output_type": "stream",
          "name": "stdout",
          "text": [
            "Valid\n"
          ]
        }
      ]
    }
  ]
}